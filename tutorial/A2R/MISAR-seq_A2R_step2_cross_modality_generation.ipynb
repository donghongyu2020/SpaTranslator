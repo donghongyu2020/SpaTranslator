{
 "cells": [
  {
   "cell_type": "markdown",
   "id": "3a8e5d29",
   "metadata": {},
   "source": [
    "## Tutorial for ATAC to RNA Cross-Modality Generation Step2"
   ]
  },
  {
   "cell_type": "markdown",
   "id": "21b41de3",
   "metadata": {},
   "source": [
    "Hi, this is the tutorial for ATAC to RNA(denoted as A2R) cross-modality generation. We take the MISAR-seq dataset as an example in this task. Detailed results about this task will be found in figure 3 in our paper.\n",
    "\n",
    "To be specific, our model input is three types of data: \n",
    "* a set of paired spatial multi-omics data from the same slice (denoted as S1R and S1A in our paper and figure 1) \n",
    "* a single-modality spatial data from another slice (denoted as S2A in our paper and figure 1) \n",
    "\n",
    "Our target is to generate the missing modality for S2, that is S2R.\n",
    "\n",
    "We divide the whole process into 2 files. This file is step 2, which is the core generation framework. If you do not run step 1, please go back to that file.\n"
   ]
  },
  {
   "cell_type": "markdown",
   "id": "c2564639",
   "metadata": {},
   "source": [
    "## Read in data"
   ]
  },
  {
   "cell_type": "code",
   "execution_count": null,
   "id": "08e49b3f",
   "metadata": {},
   "outputs": [],
   "source": [
    "%load_ext autoreload\n",
    "%autoreload 2"
   ]
  },
  {
   "cell_type": "code",
   "execution_count": 1,
   "id": "c49da12a",
   "metadata": {
    "ExecuteTime": {
     "end_time": "2023-01-15T14:59:55.797200Z",
     "start_time": "2023-01-15T14:59:53.653936Z"
    }
   },
   "outputs": [],
   "source": [
    "import scanpy as sc"
   ]
  },
  {
   "cell_type": "code",
   "execution_count": 2,
   "id": "e589b8ad",
   "metadata": {},
   "outputs": [],
   "source": [
    "import torch\n",
    "used_device = torch.device('cuda:2' if torch.cuda.is_available() else 'cpu')\n",
    "\n",
    "#set working device\n",
    "torch.cuda.set_device(used_device)"
   ]
  },
  {
   "cell_type": "code",
   "execution_count": null,
   "id": "2cfa903c",
   "metadata": {},
   "outputs": [],
   "source": [
    "import os\n",
    "os.chdir('/home/yourworkingpath/SpatialTranslator')"
   ]
  },
  {
   "cell_type": "code",
   "execution_count": 4,
   "id": "4f0ebf3b",
   "metadata": {},
   "outputs": [],
   "source": [
    "os.chdir('/workdir/sm2888/ST')"
   ]
  },
  {
   "cell_type": "code",
   "execution_count": 5,
   "id": "f691584a",
   "metadata": {},
   "outputs": [
    {
     "name": "stdout",
     "output_type": "stream",
     "text": [
      "\n",
      "    _____               ______                           __        __              \n",
      "   / ___/ ____   ____ _/_  __/_____ ____ _ ____   _____ / /____ _ / /_ ____   _____\n",
      "   \\__ \\ / __ \\ / __ `/ / /  / ___// __ `// __ \\ / ___// // __ `// __// __ \\ / ___/\n",
      "  ___/ // /_/ // /_/ / / /  / /   / /_/ // / / /(__  )/ // /_/ // /_ / /_/ // /    \n",
      " /____// .___/ \\__,_/ /_/  /_/    \\__,_//_/ /_//____//_/ \\__,_/ \\__/ \\____//_/     \n",
      "      /_/                                                                           \n",
      "\n",
      "SpaTranslator v1.0.8     \n",
      "\n"
     ]
    }
   ],
   "source": [
    "import SpaTranslator as spt"
   ]
  },
  {
   "cell_type": "markdown",
   "id": "0001e7c9",
   "metadata": {},
   "source": [
    "We read the After_train data from step 1."
   ]
  },
  {
   "cell_type": "code",
   "execution_count": 6,
   "id": "064bb84e-4660-4f02-ad1a-d4c743e41b0b",
   "metadata": {},
   "outputs": [],
   "source": [
    "S1_ATAC_data = sc.read_h5ad('After_train_E15_5-S1_atac.h5ad')"
   ]
  },
  {
   "cell_type": "code",
   "execution_count": 7,
   "id": "8657e62e-e283-4100-bea2-ca585b800fa1",
   "metadata": {},
   "outputs": [],
   "source": [
    "S1_RNA_data = sc.read_h5ad('To_train_E15_5-S1_expr.h5ad')"
   ]
  },
  {
   "cell_type": "code",
   "execution_count": 8,
   "id": "e3ce1ba9-63fe-40d1-a159-9c769f693576",
   "metadata": {},
   "outputs": [],
   "source": [
    "S2_ATAC_data = sc.read_h5ad('After_train_E15_5-S2_atac.h5ad')"
   ]
  },
  {
   "cell_type": "code",
   "execution_count": 9,
   "id": "7ce102d5-3112-4e15-abf6-0b0a8f6bb252",
   "metadata": {},
   "outputs": [
    {
     "data": {
      "text/plain": [
       "AnnData object with n_obs × n_vars = 1939 × 244394\n",
       "    obs: 'tsse', 'n_fragment', 'frac_dup', 'frac_mito', 'sample', 'Sample', 'TSSEnrichment', 'ReadsInTSS', 'ReadsInPromoter', 'ReadsInBlacklist', 'PromoterRatio', 'PassQC', 'NucleosomeRatio', 'nMultiFrags', 'nMonoFrags', 'nFrags', 'nDiFrags', 'Gex_RiboRatio', 'Gex_nUMI', 'Gex_nGenes', 'Gex_MitoRatio', 'BlacklistRatio', 'array_col', 'array_row', 'Combined_Clusters', 'RNA_Clusters', 'ATAC_Clusters', 'cell_type'\n",
       "    uns: 'peaks', 'reference_sequences'\n",
       "    obsm: 'AlignedEmbedding', 'insertion', 'spatial'"
      ]
     },
     "execution_count": 9,
     "metadata": {},
     "output_type": "execute_result"
    }
   ],
   "source": [
    "S2_ATAC_data"
   ]
  },
  {
   "cell_type": "code",
   "execution_count": 10,
   "id": "06ca38af-ef46-486e-8c5c-5e1d9bf19712",
   "metadata": {},
   "outputs": [],
   "source": [
    "S2_ATAC_data.obs['cell_type'] = S2_ATAC_data.obs['cell_type'].astype('category')"
   ]
  },
  {
   "cell_type": "markdown",
   "id": "d9f450fe",
   "metadata": {},
   "source": [
    "## Preprocessing and Construct Neighbor Graph"
   ]
  },
  {
   "cell_type": "code",
   "execution_count": 11,
   "id": "77116723",
   "metadata": {},
   "outputs": [
    {
     "name": "stdout",
     "output_type": "stream",
     "text": [
      "Constructing the spatial graph\n",
      "Generated graph with 11694 edges across 1949 cells.\n",
      "Average neighbors per cell: 6.0000\n",
      "Constructing the spatial graph\n",
      "Generated graph with 11694 edges across 1949 cells.\n",
      "Average neighbors per cell: 6.0000\n",
      "Constructing the spatial graph\n",
      "Generated graph with 11634 edges across 1939 cells.\n",
      "Average neighbors per cell: 6.0000\n"
     ]
    }
   ],
   "source": [
    "n_neighbors=6\n",
    "for adata in [S1_RNA_data, S1_ATAC_data, S2_ATAC_data]:\n",
    "    spt.build_spatial_graph(adata,  knn_neighbors = n_neighbors, method ='KNN')"
   ]
  },
  {
   "cell_type": "code",
   "execution_count": null,
   "id": "5015e639-79d0-4122-8a22-9546617408a0",
   "metadata": {},
   "outputs": [],
   "source": [
    "sc.pp.normalize_total(S1_RNA_data)\n",
    "sc.pp.log1p(S1_RNA_data)\n",
    "sc.pp.highly_variable_genes(S1_RNA_data, n_top_genes=5000)\n",
    "\n",
    "RNA_data_processed = sc.read_h5ad('To_train_E15_5-S2_expr.h5ad')\n",
    "sc.pp.normalize_total(RNA_data_processed)\n",
    "sc.pp.log1p(RNA_data_processed)\n",
    "sc.pp.highly_variable_genes(RNA_data_processed, n_top_genes=5000)"
   ]
  },
  {
   "cell_type": "code",
   "execution_count": 15,
   "id": "8b904969-86ee-4e7f-8ca9-d9caa966029b",
   "metadata": {},
   "outputs": [],
   "source": [
    "# get highly variable genes\n",
    "hvg_S1 = S1_RNA_data.var[S1_RNA_data.var['highly_variable']].index\n",
    "hvg_processed = RNA_data_processed.var[RNA_data_processed.var['highly_variable']].index\n",
    "\n",
    "# get common highly variable genes\n",
    "common_hvgs = hvg_S1.intersection(hvg_processed)\n",
    "\n",
    "# filter data and only keep common highly variable genes\n",
    "S1_RNA_data = S1_RNA_data[:, S1_RNA_data.var_names.isin(common_hvgs)]\n",
    "RNA_data_processed = RNA_data_processed[:, RNA_data_processed.var_names.isin(common_hvgs)]\n"
   ]
  },
  {
   "cell_type": "code",
   "execution_count": 16,
   "id": "4b066d9b-4e94-4a76-8fb2-91fa40084090",
   "metadata": {},
   "outputs": [
    {
     "data": {
      "text/html": [
       "<div>\n",
       "<style scoped>\n",
       "    .dataframe tbody tr th:only-of-type {\n",
       "        vertical-align: middle;\n",
       "    }\n",
       "\n",
       "    .dataframe tbody tr th {\n",
       "        vertical-align: top;\n",
       "    }\n",
       "\n",
       "    .dataframe thead th {\n",
       "        text-align: right;\n",
       "    }\n",
       "</style>\n",
       "<table border=\"1\" class=\"dataframe\">\n",
       "  <thead>\n",
       "    <tr style=\"text-align: right;\">\n",
       "      <th></th>\n",
       "      <th>gene_ids</th>\n",
       "      <th>feature_types</th>\n",
       "      <th>genome</th>\n",
       "      <th>highly_variable</th>\n",
       "      <th>means</th>\n",
       "      <th>dispersions</th>\n",
       "      <th>dispersions_norm</th>\n",
       "    </tr>\n",
       "  </thead>\n",
       "  <tbody>\n",
       "    <tr>\n",
       "      <th>Snhg6</th>\n",
       "      <td>ENSMUSG00000098234</td>\n",
       "      <td>Gene Expression</td>\n",
       "      <td>mm10</td>\n",
       "      <td>True</td>\n",
       "      <td>1.806389e-02</td>\n",
       "      <td>-0.300393</td>\n",
       "      <td>0.697886</td>\n",
       "    </tr>\n",
       "    <tr>\n",
       "      <th>Tcf24</th>\n",
       "      <td>ENSMUSG00000099032</td>\n",
       "      <td>Gene Expression</td>\n",
       "      <td>mm10</td>\n",
       "      <td>True</td>\n",
       "      <td>1.918491e-03</td>\n",
       "      <td>-0.317254</td>\n",
       "      <td>0.657134</td>\n",
       "    </tr>\n",
       "    <tr>\n",
       "      <th>Eya1</th>\n",
       "      <td>ENSMUSG00000025932</td>\n",
       "      <td>Gene Expression</td>\n",
       "      <td>mm10</td>\n",
       "      <td>True</td>\n",
       "      <td>1.314915e-01</td>\n",
       "      <td>-0.083303</td>\n",
       "      <td>2.602218</td>\n",
       "    </tr>\n",
       "    <tr>\n",
       "      <th>Msc</th>\n",
       "      <td>ENSMUSG00000025930</td>\n",
       "      <td>Gene Expression</td>\n",
       "      <td>mm10</td>\n",
       "      <td>True</td>\n",
       "      <td>8.504798e-03</td>\n",
       "      <td>0.473475</td>\n",
       "      <td>2.568211</td>\n",
       "    </tr>\n",
       "    <tr>\n",
       "      <th>Crispld1</th>\n",
       "      <td>ENSMUSG00000025776</td>\n",
       "      <td>Gene Expression</td>\n",
       "      <td>mm10</td>\n",
       "      <td>True</td>\n",
       "      <td>5.991552e-02</td>\n",
       "      <td>-0.079247</td>\n",
       "      <td>2.022538</td>\n",
       "    </tr>\n",
       "    <tr>\n",
       "      <th>...</th>\n",
       "      <td>...</td>\n",
       "      <td>...</td>\n",
       "      <td>...</td>\n",
       "      <td>...</td>\n",
       "      <td>...</td>\n",
       "      <td>...</td>\n",
       "      <td>...</td>\n",
       "    </tr>\n",
       "    <tr>\n",
       "      <th>Reps2</th>\n",
       "      <td>ENSMUSG00000040855</td>\n",
       "      <td>Gene Expression</td>\n",
       "      <td>mm10</td>\n",
       "      <td>True</td>\n",
       "      <td>2.175044e-01</td>\n",
       "      <td>-0.495685</td>\n",
       "      <td>0.997916</td>\n",
       "    </tr>\n",
       "    <tr>\n",
       "      <th>Mid1</th>\n",
       "      <td>ENSMUSG00000035299</td>\n",
       "      <td>Gene Expression</td>\n",
       "      <td>mm10</td>\n",
       "      <td>True</td>\n",
       "      <td>2.798040e-01</td>\n",
       "      <td>-0.596138</td>\n",
       "      <td>0.904185</td>\n",
       "    </tr>\n",
       "    <tr>\n",
       "      <th>mt-Co1</th>\n",
       "      <td>ENSMUSG00000064351</td>\n",
       "      <td>Gene Expression</td>\n",
       "      <td>mm10</td>\n",
       "      <td>True</td>\n",
       "      <td>6.870210e-01</td>\n",
       "      <td>-1.210864</td>\n",
       "      <td>1.165279</td>\n",
       "    </tr>\n",
       "    <tr>\n",
       "      <th>mt-Nd3</th>\n",
       "      <td>ENSMUSG00000064360</td>\n",
       "      <td>Gene Expression</td>\n",
       "      <td>mm10</td>\n",
       "      <td>True</td>\n",
       "      <td>8.321977e-02</td>\n",
       "      <td>-0.243758</td>\n",
       "      <td>1.147481</td>\n",
       "    </tr>\n",
       "    <tr>\n",
       "      <th>Ccl21a</th>\n",
       "      <td>ENSMUSG00000095320</td>\n",
       "      <td>Gene Expression</td>\n",
       "      <td>mm10</td>\n",
       "      <td>False</td>\n",
       "      <td>1.000000e-12</td>\n",
       "      <td>NaN</td>\n",
       "      <td>NaN</td>\n",
       "    </tr>\n",
       "  </tbody>\n",
       "</table>\n",
       "<p>1217 rows × 7 columns</p>\n",
       "</div>"
      ],
      "text/plain": [
       "                    gene_ids    feature_types genome  highly_variable  \\\n",
       "Snhg6     ENSMUSG00000098234  Gene Expression   mm10             True   \n",
       "Tcf24     ENSMUSG00000099032  Gene Expression   mm10             True   \n",
       "Eya1      ENSMUSG00000025932  Gene Expression   mm10             True   \n",
       "Msc       ENSMUSG00000025930  Gene Expression   mm10             True   \n",
       "Crispld1  ENSMUSG00000025776  Gene Expression   mm10             True   \n",
       "...                      ...              ...    ...              ...   \n",
       "Reps2     ENSMUSG00000040855  Gene Expression   mm10             True   \n",
       "Mid1      ENSMUSG00000035299  Gene Expression   mm10             True   \n",
       "mt-Co1    ENSMUSG00000064351  Gene Expression   mm10             True   \n",
       "mt-Nd3    ENSMUSG00000064360  Gene Expression   mm10             True   \n",
       "Ccl21a    ENSMUSG00000095320  Gene Expression   mm10            False   \n",
       "\n",
       "                 means  dispersions  dispersions_norm  \n",
       "Snhg6     1.806389e-02    -0.300393          0.697886  \n",
       "Tcf24     1.918491e-03    -0.317254          0.657134  \n",
       "Eya1      1.314915e-01    -0.083303          2.602218  \n",
       "Msc       8.504798e-03     0.473475          2.568211  \n",
       "Crispld1  5.991552e-02    -0.079247          2.022538  \n",
       "...                ...          ...               ...  \n",
       "Reps2     2.175044e-01    -0.495685          0.997916  \n",
       "Mid1      2.798040e-01    -0.596138          0.904185  \n",
       "mt-Co1    6.870210e-01    -1.210864          1.165279  \n",
       "mt-Nd3    8.321977e-02    -0.243758          1.147481  \n",
       "Ccl21a    1.000000e-12          NaN               NaN  \n",
       "\n",
       "[1217 rows x 7 columns]"
      ]
     },
     "execution_count": 16,
     "metadata": {},
     "output_type": "execute_result"
    }
   ],
   "source": [
    "S1_RNA_data.var"
   ]
  },
  {
   "cell_type": "code",
   "execution_count": 17,
   "id": "9cb3b32c-8d97-43f4-b5d6-ae0fee75c01e",
   "metadata": {},
   "outputs": [
    {
     "data": {
      "text/html": [
       "<div>\n",
       "<style scoped>\n",
       "    .dataframe tbody tr th:only-of-type {\n",
       "        vertical-align: middle;\n",
       "    }\n",
       "\n",
       "    .dataframe tbody tr th {\n",
       "        vertical-align: top;\n",
       "    }\n",
       "\n",
       "    .dataframe thead th {\n",
       "        text-align: right;\n",
       "    }\n",
       "</style>\n",
       "<table border=\"1\" class=\"dataframe\">\n",
       "  <thead>\n",
       "    <tr style=\"text-align: right;\">\n",
       "      <th></th>\n",
       "      <th>gene_ids</th>\n",
       "      <th>feature_types</th>\n",
       "      <th>genome</th>\n",
       "      <th>highly_variable</th>\n",
       "      <th>means</th>\n",
       "      <th>dispersions</th>\n",
       "      <th>dispersions_norm</th>\n",
       "    </tr>\n",
       "  </thead>\n",
       "  <tbody>\n",
       "    <tr>\n",
       "      <th>Snhg6</th>\n",
       "      <td>ENSMUSG00000098234</td>\n",
       "      <td>Gene Expression</td>\n",
       "      <td>mm10</td>\n",
       "      <td>True</td>\n",
       "      <td>6.828864e-02</td>\n",
       "      <td>0.630215</td>\n",
       "      <td>1.180498</td>\n",
       "    </tr>\n",
       "    <tr>\n",
       "      <th>Tcf24</th>\n",
       "      <td>ENSMUSG00000099032</td>\n",
       "      <td>Gene Expression</td>\n",
       "      <td>mm10</td>\n",
       "      <td>True</td>\n",
       "      <td>4.771582e-03</td>\n",
       "      <td>0.492146</td>\n",
       "      <td>0.838558</td>\n",
       "    </tr>\n",
       "    <tr>\n",
       "      <th>Eya1</th>\n",
       "      <td>ENSMUSG00000025932</td>\n",
       "      <td>Gene Expression</td>\n",
       "      <td>mm10</td>\n",
       "      <td>True</td>\n",
       "      <td>1.845367e-01</td>\n",
       "      <td>0.393316</td>\n",
       "      <td>0.593794</td>\n",
       "    </tr>\n",
       "    <tr>\n",
       "      <th>Msc</th>\n",
       "      <td>ENSMUSG00000025930</td>\n",
       "      <td>Gene Expression</td>\n",
       "      <td>mm10</td>\n",
       "      <td>True</td>\n",
       "      <td>1.478886e-02</td>\n",
       "      <td>0.496599</td>\n",
       "      <td>0.849585</td>\n",
       "    </tr>\n",
       "    <tr>\n",
       "      <th>Crispld1</th>\n",
       "      <td>ENSMUSG00000025776</td>\n",
       "      <td>Gene Expression</td>\n",
       "      <td>mm10</td>\n",
       "      <td>True</td>\n",
       "      <td>8.068594e-02</td>\n",
       "      <td>0.569555</td>\n",
       "      <td>1.030269</td>\n",
       "    </tr>\n",
       "    <tr>\n",
       "      <th>...</th>\n",
       "      <td>...</td>\n",
       "      <td>...</td>\n",
       "      <td>...</td>\n",
       "      <td>...</td>\n",
       "      <td>...</td>\n",
       "      <td>...</td>\n",
       "      <td>...</td>\n",
       "    </tr>\n",
       "    <tr>\n",
       "      <th>Reps2</th>\n",
       "      <td>ENSMUSG00000040855</td>\n",
       "      <td>Gene Expression</td>\n",
       "      <td>mm10</td>\n",
       "      <td>True</td>\n",
       "      <td>3.789510e-01</td>\n",
       "      <td>0.446772</td>\n",
       "      <td>0.719084</td>\n",
       "    </tr>\n",
       "    <tr>\n",
       "      <th>Mid1</th>\n",
       "      <td>ENSMUSG00000035299</td>\n",
       "      <td>Gene Expression</td>\n",
       "      <td>mm10</td>\n",
       "      <td>True</td>\n",
       "      <td>4.929389e-01</td>\n",
       "      <td>0.530478</td>\n",
       "      <td>1.128766</td>\n",
       "    </tr>\n",
       "    <tr>\n",
       "      <th>mt-Co1</th>\n",
       "      <td>ENSMUSG00000064351</td>\n",
       "      <td>Gene Expression</td>\n",
       "      <td>mm10</td>\n",
       "      <td>True</td>\n",
       "      <td>1.814009e+00</td>\n",
       "      <td>0.788331</td>\n",
       "      <td>0.562708</td>\n",
       "    </tr>\n",
       "    <tr>\n",
       "      <th>mt-Nd3</th>\n",
       "      <td>ENSMUSG00000064360</td>\n",
       "      <td>Gene Expression</td>\n",
       "      <td>mm10</td>\n",
       "      <td>True</td>\n",
       "      <td>2.580433e-01</td>\n",
       "      <td>0.869502</td>\n",
       "      <td>3.226957</td>\n",
       "    </tr>\n",
       "    <tr>\n",
       "      <th>Ccl21a</th>\n",
       "      <td>ENSMUSG00000095320</td>\n",
       "      <td>Gene Expression</td>\n",
       "      <td>mm10</td>\n",
       "      <td>False</td>\n",
       "      <td>1.000000e-12</td>\n",
       "      <td>NaN</td>\n",
       "      <td>NaN</td>\n",
       "    </tr>\n",
       "  </tbody>\n",
       "</table>\n",
       "<p>1217 rows × 7 columns</p>\n",
       "</div>"
      ],
      "text/plain": [
       "                    gene_ids    feature_types genome  highly_variable  \\\n",
       "Snhg6     ENSMUSG00000098234  Gene Expression   mm10             True   \n",
       "Tcf24     ENSMUSG00000099032  Gene Expression   mm10             True   \n",
       "Eya1      ENSMUSG00000025932  Gene Expression   mm10             True   \n",
       "Msc       ENSMUSG00000025930  Gene Expression   mm10             True   \n",
       "Crispld1  ENSMUSG00000025776  Gene Expression   mm10             True   \n",
       "...                      ...              ...    ...              ...   \n",
       "Reps2     ENSMUSG00000040855  Gene Expression   mm10             True   \n",
       "Mid1      ENSMUSG00000035299  Gene Expression   mm10             True   \n",
       "mt-Co1    ENSMUSG00000064351  Gene Expression   mm10             True   \n",
       "mt-Nd3    ENSMUSG00000064360  Gene Expression   mm10             True   \n",
       "Ccl21a    ENSMUSG00000095320  Gene Expression   mm10            False   \n",
       "\n",
       "                 means  dispersions  dispersions_norm  \n",
       "Snhg6     6.828864e-02     0.630215          1.180498  \n",
       "Tcf24     4.771582e-03     0.492146          0.838558  \n",
       "Eya1      1.845367e-01     0.393316          0.593794  \n",
       "Msc       1.478886e-02     0.496599          0.849585  \n",
       "Crispld1  8.068594e-02     0.569555          1.030269  \n",
       "...                ...          ...               ...  \n",
       "Reps2     3.789510e-01     0.446772          0.719084  \n",
       "Mid1      4.929389e-01     0.530478          1.128766  \n",
       "mt-Co1    1.814009e+00     0.788331          0.562708  \n",
       "mt-Nd3    2.580433e-01     0.869502          3.226957  \n",
       "Ccl21a    1.000000e-12          NaN               NaN  \n",
       "\n",
       "[1217 rows x 7 columns]"
      ]
     },
     "execution_count": 17,
     "metadata": {},
     "output_type": "execute_result"
    }
   ],
   "source": [
    "RNA_data_processed.var"
   ]
  },
  {
   "cell_type": "markdown",
   "id": "8ad3512f",
   "metadata": {},
   "source": [
    "## Data Spliting and Model Loading"
   ]
  },
  {
   "cell_type": "code",
   "execution_count": 18,
   "id": "afc51692",
   "metadata": {
    "ExecuteTime": {
     "end_time": "2023-01-15T14:59:56.141443Z",
     "start_time": "2023-01-15T14:59:56.130241Z"
    }
   },
   "outputs": [
    {
     "name": "stdout",
     "output_type": "stream",
     "text": [
      "Training set size: 1560\n",
      "Validation set size: 389\n"
     ]
    }
   ],
   "source": [
    "train_id, validation_id = spt.split_dataset_by_slices(S1_RNA_data, S1_ATAC_data)"
   ]
  },
  {
   "cell_type": "code",
   "execution_count": 19,
   "id": "f1b59294",
   "metadata": {},
   "outputs": [
    {
     "name": "stdout",
     "output_type": "stream",
     "text": [
      "SpaTranslator model initialized.\n"
     ]
    }
   ],
   "source": [
    "\n",
    "model = spt.SpaTranslator()"
   ]
  },
  {
   "cell_type": "code",
   "execution_count": 20,
   "id": "b92256de",
   "metadata": {
    "ExecuteTime": {
     "end_time": "2023-01-15T14:59:56.209921Z",
     "start_time": "2023-01-15T14:59:56.143150Z"
    },
    "scrolled": true
   },
   "outputs": [
    {
     "name": "stdout",
     "output_type": "stream",
     "text": [
      "Data successfully loaded.\n"
     ]
    }
   ],
   "source": [
    "model.load_data(S1_RNA_data, S1_ATAC_data, S2_ATAC_data, train_id, validation_id, mode='A2R') "
   ]
  },
  {
   "cell_type": "code",
   "execution_count": 21,
   "id": "5dabe34b",
   "metadata": {
    "ExecuteTime": {
     "end_time": "2023-01-15T15:00:00.735200Z",
     "start_time": "2023-01-15T14:59:56.211938Z"
    }
   },
   "outputs": [
    {
     "name": "stdout",
     "output_type": "stream",
     "text": [
      "Recommended to use default settings for optimal results.\n",
      "Binarizing ATAC data.\n",
      "Filtering out peaks present in fewer than 0.50% of cells.\n",
      "Applying TF-IDF transformation.\n",
      "Normalizing data to range [0, 1] for ATAC.\n",
      "Data preprocessing completed.\n"
     ]
    }
   ],
   "source": [
    "model.preprocess_data(normalize_total=False, log1p=False,use_hvg=False) "
   ]
  },
  {
   "cell_type": "code",
   "execution_count": 22,
   "id": "921389a6",
   "metadata": {
    "ExecuteTime": {
     "end_time": "2023-01-15T15:00:00.744330Z",
     "start_time": "2023-01-15T15:00:00.737473Z"
    }
   },
   "outputs": [
    {
     "data": {
      "text/plain": [
       "Index(['chr1:3094810-3095311', 'chr1:3120251-3120752', 'chr1:3184960-3185461',\n",
       "       'chr1:3360849-3361350', 'chr1:3399870-3400371', 'chr1:3414009-3414510',\n",
       "       'chr1:3514678-3515179', 'chr1:3552386-3552887', 'chr1:3670824-3671325',\n",
       "       'chr1:3671548-3672049',\n",
       "       ...\n",
       "       'chrY:90799093-90799594', 'chrY:90800223-90800724',\n",
       "       'chrY:90801342-90801843', 'chrY:90803330-90803831',\n",
       "       'chrY:90807496-90807997', 'chrY:90808593-90809094',\n",
       "       'chrY:90810719-90811220', 'chrY:90811533-90812034',\n",
       "       'chrY:90812148-90812649', 'chrY:90812685-90813186'],\n",
       "      dtype='object', name='index', length=265014)"
      ]
     },
     "execution_count": 22,
     "metadata": {},
     "output_type": "execute_result"
    }
   ],
   "source": [
    "model.ATAC_data_p.var_names"
   ]
  },
  {
   "cell_type": "markdown",
   "id": "4f3685c3",
   "metadata": {},
   "source": [
    "Similar to [scbutterfly](https://www.nature.com/articles/s41467-024-47418-x), we discover that it is a good idea to divide the ATAC dataset into several parts based on their location on the genome, which makes it easier for training. "
   ]
  },
  {
   "cell_type": "code",
   "execution_count": 23,
   "id": "f6ade79c",
   "metadata": {
    "ExecuteTime": {
     "end_time": "2023-01-15T15:00:02.115571Z",
     "start_time": "2023-01-15T15:00:00.746967Z"
    },
    "scrolled": true
   },
   "outputs": [
    {
     "name": "stdout",
     "output_type": "stream",
     "text": [
      "[16883, 12699, 19116, 11759, 10537, 9448, 12005, 8442, 12310, 8423, 7167, 22138, 11966, 19434, 18302, 13699, 17873, 15369, 14837, 2576, 31]\n"
     ]
    }
   ],
   "source": [
    "chrom_list = []\n",
    "current_chrom = None\n",
    "count = 0\n",
    "\n",
    "for peak in model.ATAC_data_p.var_names:\n",
    "    chrom = peak.split(':')[0]  #get the chromosome\n",
    "    if chrom != current_chrom:\n",
    "        if current_chrom is not None:\n",
    "            chrom_list.append(count)\n",
    "        current_chrom = chrom\n",
    "        count = 1\n",
    "    else:\n",
    "        count += 1\n",
    "\n",
    "# add the last chromosome\n",
    "chrom_list.append(count)\n",
    "\n",
    "print(chrom_list)"
   ]
  },
  {
   "cell_type": "code",
   "execution_count": 24,
   "id": "459b9cc9",
   "metadata": {
    "ExecuteTime": {
     "end_time": "2023-01-15T15:00:02.122229Z",
     "start_time": "2023-01-15T15:00:02.117527Z"
    }
   },
   "outputs": [
    {
     "data": {
      "text/plain": [
       "265014"
      ]
     },
     "execution_count": 24,
     "metadata": {},
     "output_type": "execute_result"
    }
   ],
   "source": [
    "sum(chrom_list)"
   ]
  },
  {
   "cell_type": "markdown",
   "id": "8038ff11",
   "metadata": {},
   "source": [
    "Because of the number of our cell is quite small (only 1000+), we need to do some augmentation."
   ]
  },
  {
   "cell_type": "code",
   "execution_count": 25,
   "id": "a5f094ea",
   "metadata": {
    "ExecuteTime": {
     "end_time": "2023-01-15T15:00:02.140845Z",
     "start_time": "2023-01-15T15:00:02.123769Z"
    }
   },
   "outputs": [
    {
     "name": "stdout",
     "output_type": "stream",
     "text": [
      "Performing cell type-based augmentation\n",
      "Data augmentation completed.\n"
     ]
    }
   ],
   "source": [
    "model.augment_data(aug_type=\"cell_type_augmentation\")"
   ]
  },
  {
   "cell_type": "markdown",
   "id": "a01a38fb",
   "metadata": {},
   "source": [
    "## Training"
   ]
  },
  {
   "cell_type": "code",
   "execution_count": 26,
   "id": "87de0c57",
   "metadata": {
    "ExecuteTime": {
     "end_time": "2023-01-15T15:00:03.849746Z",
     "start_time": "2023-01-15T15:00:02.142450Z"
    }
   },
   "outputs": [
    {
     "name": "stdout",
     "output_type": "stream",
     "text": [
      "\n",
      "------------------------------\n",
      "Model Parameters\n",
      "Mode: A2R\n",
      "R_encoder_nlayer: 2\n",
      "A_encoder_nlayer: 2\n",
      "R_decoder_nlayer: 2\n",
      "A_decoder_nlayer: 2\n",
      "R_encoder_dim_list: [1217, 256, 128]\n",
      "A_encoder_dim_list: [265014, 672, 128]\n",
      "R_decoder_dim_list: [128, 256, 1217]\n",
      "A_decoder_dim_list: [128, 672, 265014]\n",
      "R_encoder_act_list: [LeakyReLU(negative_slope=0.01), LeakyReLU(negative_slope=0.01)]\n",
      "A_encoder_act_list: [LeakyReLU(negative_slope=0.01), LeakyReLU(negative_slope=0.01)]\n",
      "R_decoder_act_list: [LeakyReLU(negative_slope=0.01), LeakyReLU(negative_slope=0.01)]\n",
      "A_decoder_act_list: [LeakyReLU(negative_slope=0.01), Sigmoid()]\n",
      "Translator embed dim: 128\n",
      "Translator input dim (RNA): 128\n",
      "Translator input dim (ATAC): 128\n",
      "Translator activation list: [LeakyReLU(negative_slope=0.01), LeakyReLU(negative_slope=0.01), LeakyReLU(negative_slope=0.01)]\n",
      "Discriminator layers: 1\n",
      "Discriminator dim list (RNA): [128]\n",
      "Discriminator dim list (ATAC): [128]\n",
      "Discriminator activation list: [Sigmoid()]\n",
      "Dropout rate: 0.1\n",
      "R_noise_rate: 0.5\n",
      "A_noise_rate: 0.3\n",
      "Chromosome list: [16883, 12699, 19116, 11759, 10537, 9448, 12005, 8442, 12310, 8423, 7167, 22138, 11966, 19434, 18302, 13699, 17873, 15369, 14837, 2576, 31]\n",
      "------------------------------\n",
      "\n",
      "Model successfully constructed.\n"
     ]
    }
   ],
   "source": [
    "model.construct_model(chrom_list=chrom_list)"
   ]
  },
  {
   "cell_type": "code",
   "execution_count": 27,
   "id": "bc4c6cb7",
   "metadata": {
    "ExecuteTime": {
     "end_time": "2023-01-15T15:11:40.760822Z",
     "start_time": "2023-01-15T15:00:03.851347Z"
    }
   },
   "outputs": [
    {
     "name": "stderr",
     "output_type": "stream",
     "text": [
      "RNA pretraining with VAE: 100%|█████████| 100/100 [09:50<00:00,  5.91s/it, train=0.0202, val=0.0222]\n",
      "ATAC pretraining with VAE: 100%|████████| 100/100 [16:25<00:00,  9.86s/it, train=0.1123, val=0.1093]\n",
      "Integrative training:  68%|████████▊    | 204/300 [49:11<24:09, 15.10s/it, train=0.4976, val=0.4905]"
     ]
    },
    {
     "name": "stdout",
     "output_type": "stream",
     "text": [
      "Integrative training early stop, validation loss does not improve in 50 epoches!\n"
     ]
    },
    {
     "name": "stderr",
     "output_type": "stream",
     "text": [
      "Integrative training:  68%|████████▊    | 204/300 [49:12<23:09, 14.47s/it, train=0.4976, val=0.4905]\n"
     ]
    },
    {
     "name": "stdout",
     "output_type": "stream",
     "text": [
      "Model training completed.\n"
     ]
    }
   ],
   "source": [
    "model.train_model(translator_epoch = 300)"
   ]
  },
  {
   "cell_type": "markdown",
   "id": "8e670918",
   "metadata": {},
   "source": [
    "## Get prediction"
   ]
  },
  {
   "cell_type": "markdown",
   "id": "ba799d0e",
   "metadata": {},
   "source": [
    "You could get cross-modal predictions using ``model.test_model`` with default settings. We also provided more information metrics in this function, see in [API](../../API/index.html)."
   ]
  },
  {
   "cell_type": "code",
   "execution_count": 28,
   "id": "e2870879",
   "metadata": {
    "ExecuteTime": {
     "end_time": "2023-01-15T15:11:57.445695Z",
     "start_time": "2023-01-15T15:11:40.763526Z"
    }
   },
   "outputs": [
    {
     "name": "stderr",
     "output_type": "stream",
     "text": [
      "ATAC to RNA predicting...: 100%|████████████████████████████████████| 31/31 [00:01<00:00, 25.50it/s]\n"
     ]
    }
   ],
   "source": [
    "A2R_predict = model.test_model()"
   ]
  },
  {
   "cell_type": "code",
   "execution_count": 29,
   "id": "4e331a1f-cf39-4636-a1c9-c2d00901066c",
   "metadata": {},
   "outputs": [],
   "source": [
    "combined_tensor = torch.cat(A2R_predict.uns['A2R_embedding'], dim=0)"
   ]
  },
  {
   "cell_type": "code",
   "execution_count": 30,
   "id": "21325672-3d04-4a1c-a376-2885763800e2",
   "metadata": {},
   "outputs": [],
   "source": [
    "A2R_predict.uns['A2R_embedding'] = combined_tensor"
   ]
  },
  {
   "cell_type": "code",
   "execution_count": 31,
   "id": "c2b6e47f-d2f9-4780-8710-8e591ee7df43",
   "metadata": {},
   "outputs": [],
   "source": [
    "A2R_predict.obsm['A2R_embedding'] = A2R_predict.uns['A2R_embedding'].numpy()"
   ]
  },
  {
   "cell_type": "code",
   "execution_count": 32,
   "id": "e97871d8-7ee7-4ab2-bb43-0a4414ff94e6",
   "metadata": {},
   "outputs": [],
   "source": [
    "A2R_predict = A2R_predict[RNA_data_processed.obs_names].copy()"
   ]
  },
  {
   "cell_type": "code",
   "execution_count": 33,
   "id": "cd4f80be-b044-465a-b498-c97dbdde6ba0",
   "metadata": {},
   "outputs": [],
   "source": [
    "A2R_predict.obsm['spatial'] = RNA_data_processed.obsm['spatial']"
   ]
  },
  {
   "cell_type": "code",
   "execution_count": 34,
   "id": "6481559b-ca84-4708-9374-cc870205f2f1",
   "metadata": {},
   "outputs": [
    {
     "data": {
      "text/plain": [
       "AnnData object with n_obs × n_vars = 1939 × 1217\n",
       "    obs: 'tsse', 'n_fragment', 'frac_dup', 'frac_mito', 'sample', 'Sample', 'TSSEnrichment', 'ReadsInTSS', 'ReadsInPromoter', 'ReadsInBlacklist', 'PromoterRatio', 'PassQC', 'NucleosomeRatio', 'nMultiFrags', 'nMonoFrags', 'nFrags', 'nDiFrags', 'Gex_RiboRatio', 'Gex_nUMI', 'Gex_nGenes', 'Gex_MitoRatio', 'BlacklistRatio', 'array_col', 'array_row', 'Combined_Clusters', 'RNA_Clusters', 'ATAC_Clusters', 'cell_type'\n",
       "    var: 'gene_ids', 'feature_types', 'genome', 'highly_variable', 'means', 'dispersions', 'dispersions_norm'\n",
       "    uns: 'A2R_embedding'\n",
       "    obsm: 'A2R_embedding', 'spatial'"
      ]
     },
     "execution_count": 34,
     "metadata": {},
     "output_type": "execute_result"
    }
   ],
   "source": [
    "A2R_predict"
   ]
  },
  {
   "cell_type": "markdown",
   "id": "a70049f0",
   "metadata": {},
   "source": [
    "We save our prediction result as A2R_predict"
   ]
  },
  {
   "cell_type": "code",
   "execution_count": 37,
   "id": "93ca440d-e043-4d99-9803-10b1c8e6f71d",
   "metadata": {},
   "outputs": [
    {
     "name": "stdout",
     "output_type": "stream",
     "text": [
      "odict_keys(['A2R_embedding'])\n",
      "odict_keys(['A2R_embedding'])\n"
     ]
    }
   ],
   "source": [
    "# check uns dictionary\n",
    "print(A2R_predict.uns.keys())\n",
    "\n",
    "if 'A2R_embedding' in A2R_predict.uns:\n",
    "    # convert tensor to numpy array\n",
    "    if isinstance(A2R_predict.uns['A2R_embedding'], torch.Tensor):\n",
    "        A2R_predict.uns['A2R_embedding'] = A2R_predict.uns['A2R_embedding'].numpy()\n",
    "\n",
    "# check uns dictionary\n",
    "print(A2R_predict.uns.keys())\n",
    "\n",
    "#save the result\n",
    "A2R_predict.write_h5ad(\"./result/A2R_predict_E15_S1_pair_E15_S2_A2R.h5ad\")"
   ]
  },
  {
   "cell_type": "code",
   "execution_count": 38,
   "id": "46ed8804-f69e-4d09-82f5-a28204f8a656",
   "metadata": {},
   "outputs": [],
   "source": [
    "RNA_data_processed.write_h5ad(\"./result/Real_RNA_data_processed_E15_S1_pair_E15_S2_A2R.h5ad\")"
   ]
  }
 ],
 "metadata": {
  "celltoolbar": "无",
  "kernelspec": {
   "display_name": "Python (SpaTranslator)",
   "language": "python",
   "name": "spatranslator"
  },
  "toc": {
   "base_numbering": 1,
   "nav_menu": {},
   "number_sections": true,
   "sideBar": true,
   "skip_h1_title": false,
   "title_cell": "Table of Contents",
   "title_sidebar": "Contents",
   "toc_cell": false,
   "toc_position": {},
   "toc_section_display": true,
   "toc_window_display": false
  },
  "vscode": {
   "interpreter": {
    "hash": "be831f8fd4af9710c2084c85ebfbc599b5df1562b13e9c650b8f8438275fb97d"
   }
  }
 },
 "nbformat": 4,
 "nbformat_minor": 5
}
