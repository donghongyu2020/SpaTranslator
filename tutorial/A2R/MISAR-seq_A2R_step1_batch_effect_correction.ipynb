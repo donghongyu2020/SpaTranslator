{
 "cells": [
  {
   "cell_type": "markdown",
   "id": "a8e52ef3",
   "metadata": {},
   "source": [
    "## Tutorial for ATAC to RNA Cross-Modality Generation Step 1"
   ]
  },
  {
   "cell_type": "markdown",
   "id": "e9056d91",
   "metadata": {},
   "source": [
    "Hi, this is the tutorial for ATAC to RNA(denoted as A2R) cross-modality generation. We take the MISAR-seq dataset as an example in this task. Detailed results about this task will be found in figure 3 in our paper.\n",
    "\n",
    "To be specific, our model input is three types of data: \n",
    "* a set of paired spatial multi-omics data from the same slice (denoted as S1R and S1A in our paper and figure 1) \n",
    "* a single-modality spatial data from another slice (denoted as S2A in our paper and figure 1) \n",
    "\n",
    "Our target is to generate the missing modality for S2, that is S2R.\n",
    "\n",
    "To complete this task, we need to take several steps:\n",
    "\n",
    "(1) Batch Correction. Considering the huge batch effect between slices, we first need to remove batch effects between the same modality of different slices (i.e. S1A and S2A). After this step, we will get two latent embeddings without batch for two slices respectively.\n",
    "\n",
    "(2) Modality Pretrain. We need to get the embedding for another modality (S1R).\n",
    "\n",
    "(3) Cross Generation. We use the two paired embeddings from S1A and S1R and train the generative model.\n",
    "\n",
    "(4) Inference: After training the model, we freeze all the parameters and use the embedding from S2A and input it through the frozen network from (3). Once we get the generated embedding, we use the frozen decoder from (2) and get the final whole matrix, called S2 A2R_predict.\n",
    "\n",
    "We divide the whole process into 2 files. This file is step 1, which is batch correction module. After running this ipynb file, please go to step 2 to do generation task.\n"
   ]
  },
  {
   "cell_type": "markdown",
   "id": "52bc3acf-60ed-4ad2-ac39-c620e961c00e",
   "metadata": {},
   "source": [
    "## Preparation"
   ]
  },
  {
   "cell_type": "code",
   "execution_count": 3,
   "id": "7dc46198",
   "metadata": {},
   "outputs": [],
   "source": [
    "%load_ext autoreload\n",
    "%autoreload 2"
   ]
  },
  {
   "cell_type": "code",
   "execution_count": 1,
   "id": "9d21da10-bb6d-4670-8dd4-991c9deb3618",
   "metadata": {},
   "outputs": [],
   "source": [
    "import sys\n",
    "import anndata as ad\n",
    "import scanpy as sc\n",
    "import pandas as pd\n",
    "import numpy as np\n",
    "import scipy.sparse as sp\n",
    "import scipy.linalg\n",
    "import torch\n",
    "import episcanpy.api as epi\n",
    "used_device = torch.device('cuda:1' if torch.cuda.is_available() else 'cpu')"
   ]
  },
  {
   "cell_type": "code",
   "execution_count": 2,
   "id": "b8b01efa",
   "metadata": {},
   "outputs": [
    {
     "name": "stdout",
     "output_type": "stream",
     "text": [
      "\n",
      "    _____               ______                           __        __              \n",
      "   / ___/ ____   ____ _/_  __/_____ ____ _ ____   _____ / /____ _ / /_ ____   _____\n",
      "   \\__ \\ / __ \\ / __ `/ / /  / ___// __ `// __ \\ / ___// // __ `// __// __ \\ / ___/\n",
      "  ___/ // /_/ // /_/ / / /  / /   / /_/ // / / /(__  )/ // /_/ // /_ / /_/ // /    \n",
      " /____// .___/ \\__,_/ /_/  /_/    \\__,_//_/ /_//____//_/ \\__,_/ \\__/ \\____//_/     \n",
      "      /_/                                                                           \n",
      "\n",
      "SpaTranslator v1.0.8     \n",
      "\n"
     ]
    }
   ],
   "source": [
    "import SpaTranslator as spt"
   ]
  },
  {
   "cell_type": "markdown",
   "id": "2d1d4d50-adc1-4355-8a6a-98333e9bfe81",
   "metadata": {},
   "source": [
    "## Load Data and Preprocessing"
   ]
  },
  {
   "cell_type": "code",
   "execution_count": null,
   "id": "ff07fa8c",
   "metadata": {},
   "outputs": [],
   "source": [
    "import os\n",
    "os.chdir('/home/yourworkpath/SpatialTranslator')"
   ]
  },
  {
   "cell_type": "markdown",
   "id": "72194d57",
   "metadata": {},
   "source": [
    "We load two dataset: ATAC-seq data for slice 1 and 2."
   ]
  },
  {
   "cell_type": "code",
   "execution_count": 4,
   "id": "e6af057f-4b2c-410b-a695-8c38c13361de",
   "metadata": {},
   "outputs": [],
   "source": [
    "slice_name_list =['E15_5-S1','E15_5-S2'] \n",
    "\n",
    "# load raw data\n",
    "cas_dict = {}\n",
    "for sample in slice_name_list:\n",
    "    sample_data = ad.read_h5ad('To_train_' + sample + '_atac.h5ad')\n",
    "    cas_dict[sample] = sample_data\n",
    "cas_list = [cas_dict[sample] for sample in slice_name_list]\n",
    "# merge peaks"
   ]
  },
  {
   "cell_type": "code",
   "execution_count": 5,
   "id": "9de3b8d0",
   "metadata": {},
   "outputs": [
    {
     "data": {
      "text/plain": [
       "AnnData object with n_obs × n_vars = 1949 × 265014\n",
       "    obs: 'gex_barcode', 'atac_barcode', 'is_cell', 'excluded_reason', 'gex_raw_reads', 'gex_mapped_reads', 'gex_conf_intergenic_reads', 'gex_conf_exonic_reads', 'gex_conf_intronic_reads', 'gex_conf_exonic_unique_reads', 'gex_conf_exonic_antisense_reads', 'gex_conf_exonic_dup_reads', 'gex_exonic_umis', 'gex_conf_intronic_unique_reads', 'gex_conf_intronic_antisense_reads', 'gex_conf_intronic_dup_reads', 'gex_intronic_umis', 'gex_conf_txomic_unique_reads', 'gex_umis_count', 'gex_genes_count', 'atac_raw_reads', 'atac_unmapped_reads', 'atac_lowmapq', 'atac_dup_reads', 'atac_chimeric_reads', 'atac_mitochondrial_reads', 'atac_fragments', 'atac_TSS_fragments', 'atac_peak_region_fragments', 'atac_peak_region_cutsites', 'Sample', 'TSSEnrichment', 'ReadsInTSS', 'ReadsInPromoter', 'ReadsInBlacklist', 'PromoterRatio', 'PassQC', 'NucleosomeRatio', 'nMultiFrags', 'nMonoFrags', 'nFrags', 'nDiFrags', 'Gex_RiboRatio', 'Gex_nUMI', 'Gex_nGenes', 'Gex_MitoRatio', 'BlacklistRatio', 'array_col', 'array_row', 'Harmony_ATAC_0.35', 'Harmony_RNA_0.7', 'Harmony_Combined_1.2_mergeCortex', 'ReadsInPeaks', 'FRIP', 'Annotation_for_Combined', 'cell_type'\n",
       "    var: 'Peaks', 'E15_5-S1'\n",
       "    uns: 'peaks', 'reference_sequences'\n",
       "    obsm: 'insertion', 'spatial'"
      ]
     },
     "execution_count": 5,
     "metadata": {},
     "output_type": "execute_result"
    }
   ],
   "source": [
    "cas_list[0]"
   ]
  },
  {
   "cell_type": "code",
   "execution_count": 6,
   "id": "af356716",
   "metadata": {},
   "outputs": [
    {
     "data": {
      "text/plain": [
       "Index(['chr1:3094810-3095311', 'chr1:3120251-3120752', 'chr1:3184960-3185461',\n",
       "       'chr1:3360849-3361350', 'chr1:3399870-3400371', 'chr1:3414009-3414510',\n",
       "       'chr1:3514678-3515179', 'chr1:3552386-3552887', 'chr1:3670824-3671325',\n",
       "       'chr1:3671548-3672049',\n",
       "       ...\n",
       "       'chrY:90799093-90799594', 'chrY:90800223-90800724',\n",
       "       'chrY:90801342-90801843', 'chrY:90803330-90803831',\n",
       "       'chrY:90807496-90807997', 'chrY:90808593-90809094',\n",
       "       'chrY:90810719-90811220', 'chrY:90811533-90812034',\n",
       "       'chrY:90812148-90812649', 'chrY:90812685-90813186'],\n",
       "      dtype='object', name='index', length=265014)"
      ]
     },
     "execution_count": 6,
     "metadata": {},
     "output_type": "execute_result"
    }
   ],
   "source": [
    "cas_list[0].var_names"
   ]
  },
  {
   "cell_type": "markdown",
   "id": "9a4542da",
   "metadata": {},
   "source": [
    "Considering that the data.var index between two dataset is a little different (for example, in one dataset is chr1:3094810-3095311, while in the other is chr1:3094830-3095331, which has a bias). Therefore, we use the alignment function to correct bias."
   ]
  },
  {
   "cell_type": "code",
   "execution_count": 7,
   "id": "15465eba-cf47-4d59-a099-26397bd4b585",
   "metadata": {},
   "outputs": [
    {
     "name": "stdout",
     "output_type": "stream",
     "text": [
      "Peak merged\n",
      "Peak filtered\n",
      "Matrix merged\n"
     ]
    }
   ],
   "source": [
    "cas_list_new = spt.peak_sets_alignment(cas_list)"
   ]
  },
  {
   "cell_type": "code",
   "execution_count": 8,
   "id": "d2cb0153-2755-4586-95b0-7b97f06bc73b",
   "metadata": {},
   "outputs": [],
   "source": [
    "cas_list = cas_list_new"
   ]
  },
  {
   "cell_type": "code",
   "execution_count": 9,
   "id": "d01629c8-f1d0-4bae-ba80-da43582c80f2",
   "metadata": {},
   "outputs": [],
   "source": [
    "for j in range(len(cas_list)):\n",
    "    cas_list[j].obs_names = [x + '_' + slice_name_list[j] for x in cas_list[j].obs_names]\n",
    "\n",
    "# concatenation\n",
    "adata_concat = ad.concat(cas_list, label=\"slice_name\", keys=slice_name_list)"
   ]
  },
  {
   "cell_type": "code",
   "execution_count": 10,
   "id": "03540ba5-de2f-49a4-a39c-08e169365d38",
   "metadata": {},
   "outputs": [],
   "source": [
    "# from SpaTranslator.utils import preprocess_CAS\n",
    "spt.preprocess_CAS(cas_list, adata_concat, use_fragment_count=True, min_cells_rate=0.03)"
   ]
  },
  {
   "cell_type": "code",
   "execution_count": 11,
   "id": "008a243b-0b69-4968-9e2e-6329d8a7c8de",
   "metadata": {},
   "outputs": [],
   "source": [
    "for i in range(len(slice_name_list)):\n",
    "    cas_list[i].write_h5ad(\"filtered_merged_\"+slice_name_list[i]+\"_atac.h5ad\")"
   ]
  },
  {
   "cell_type": "markdown",
   "id": "98429483",
   "metadata": {},
   "source": [
    "We construct the spatial graph by using KNN method."
   ]
  },
  {
   "cell_type": "code",
   "execution_count": null,
   "id": "48346afc-e969-4254-8029-6a16964136f5",
   "metadata": {},
   "outputs": [
    {
     "name": "stdout",
     "output_type": "stream",
     "text": [
      "E15_5-S1_atac\n",
      "Constructing the spatial graph\n",
      "Generated graph with 11694 edges across 1949 cells.\n",
      "Average neighbors per cell: 6.0000\n",
      "(1949, 15000)\n",
      "E15_5-S2_atac\n",
      "Constructing the spatial graph\n",
      "Generated graph with 11634 edges across 1939 cells.\n",
      "Average neighbors per cell: 6.0000\n",
      "(1939, 15000)\n"
     ]
    }
   ],
   "source": [
    "\n",
    "Batch_list = []\n",
    "adj_list = []\n",
    "section_ids = ['E15_5-S1_atac','E15_5-S2_atac']\n",
    "for section_id in section_ids:\n",
    "    print(section_id)\n",
    "    adata = sc.read_h5ad(\"filtered_merged_\"+ section_id + '.h5ad')\n",
    "    adata.var_names_make_unique()\n",
    "    spt.build_spatial_graph(adata, knn_neighbors = 6, method ='KNN')\n",
    "    sc.pp.highly_variable_genes(adata, flavor=\"seurat_v3\", n_top_genes=15000)\n",
    "    sc.pp.normalize_total(adata, target_sum=1e4)\n",
    "    sc.pp.log1p(adata)\n",
    "    adata = adata[:, adata.var['highly_variable']]\n",
    "\n",
    "    adj_list.append(adata.uns['adj_matrix'])\n",
    "    Batch_list.append(adata)\n",
    "    print(adata.shape)\n",
    "    "
   ]
  },
  {
   "cell_type": "code",
   "execution_count": 13,
   "id": "23fd13da-44f0-4eee-8035-3a4eae66b2b8",
   "metadata": {},
   "outputs": [],
   "source": [
    "adata_concat = ad.concat(Batch_list, label=\"slice_name\", keys=section_ids)"
   ]
  },
  {
   "cell_type": "code",
   "execution_count": 14,
   "id": "1d339438-4776-4c38-ac2f-5772ab0ab030",
   "metadata": {},
   "outputs": [
    {
     "data": {
      "text/plain": [
       "AnnData object with n_obs × n_vars = 3888 × 7199\n",
       "    obs: 'Sample', 'TSSEnrichment', 'ReadsInTSS', 'ReadsInPromoter', 'ReadsInBlacklist', 'PromoterRatio', 'PassQC', 'NucleosomeRatio', 'nMultiFrags', 'nMonoFrags', 'nFrags', 'nDiFrags', 'Gex_RiboRatio', 'Gex_nUMI', 'Gex_nGenes', 'Gex_MitoRatio', 'BlacklistRatio', 'array_col', 'array_row', 'cell_type', 'slice_name'\n",
       "    obsm: 'insertion', 'spatial'"
      ]
     },
     "execution_count": 14,
     "metadata": {},
     "output_type": "execute_result"
    }
   ],
   "source": [
    "adata_concat"
   ]
  },
  {
   "cell_type": "markdown",
   "id": "d44f44c7-df9d-4976-b179-a065bc0c70e6",
   "metadata": {},
   "source": [
    "We concat the scanpy objects for multiple slices"
   ]
  },
  {
   "cell_type": "code",
   "execution_count": null,
   "id": "aff1fc35-65e1-4227-9048-9173edb7cde4",
   "metadata": {},
   "outputs": [
    {
     "name": "stdout",
     "output_type": "stream",
     "text": [
      "adata_concat.shape:  (3888, 7199)\n"
     ]
    }
   ],
   "source": [
    "\n",
    "adata_concat.obs[\"batch_name\"] = adata_concat.obs[\"slice_name\"].astype('category')\n",
    "print('adata_concat.shape: ', adata_concat.shape)"
   ]
  },
  {
   "cell_type": "markdown",
   "id": "59ac1764-2508-4f6b-9a06-6b0371269337",
   "metadata": {},
   "source": [
    "We concat the spatial network for multiple slices"
   ]
  },
  {
   "cell_type": "code",
   "execution_count": 16,
   "id": "dc2512e6-91ab-42d2-a6fd-d4e14f2e19eb",
   "metadata": {},
   "outputs": [],
   "source": [
    "adj_concat = np.asarray(adj_list[0].todense())\n",
    "for batch_id in range(1,len(section_ids)):\n",
    "    adj_concat = scipy.linalg.block_diag(adj_concat, np.asarray(adj_list[batch_id].todense()))\n",
    "adata_concat.uns['edgeList'] = np.nonzero(adj_concat)"
   ]
  },
  {
   "cell_type": "markdown",
   "id": "2d79411d",
   "metadata": {},
   "source": [
    "## Train the model\n"
   ]
  },
  {
   "cell_type": "code",
   "execution_count": null,
   "id": "dfa50b5b-e316-4c4c-9181-8eaac5232f97",
   "metadata": {},
   "outputs": [
    {
     "name": "stdout",
     "output_type": "stream",
     "text": [
      "SpaTranslator_Aligner(\n",
      "  (encoder_layer1): GraphAttentionLayer(7199, 512, heads=1)\n",
      "  (encoder_layer2): GraphAttentionLayer(512, 128, heads=1)\n",
      "  (decoder_layer1): GraphAttentionLayer(128, 512, heads=1)\n",
      "  (decoder_layer2): GraphAttentionLayer(512, 7199, heads=1)\n",
      ")\n",
      "Pretraining\n"
     ]
    },
    {
     "name": "stderr",
     "output_type": "stream",
     "text": [
      "100%|████████████████████████████████████████████████████████████████████████████████████████████████████████| 500/500 [00:03<00:00, 138.25it/s]\n"
     ]
    },
    {
     "name": "stdout",
     "output_type": "stream",
     "text": [
      "Training with MNN loss\n"
     ]
    },
    {
     "name": "stderr",
     "output_type": "stream",
     "text": [
      "100%|█████████████████████████████████████████████████████████████████████████████████████████████████████████| 500/500 [05:22<00:00,  1.55it/s]\n"
     ]
    }
   ],
   "source": [
    "adata_concat = spt.train_spatial_aligner(adata_concat, verbose=True, knn_neighbors = 50, device=used_device)"
   ]
  },
  {
   "cell_type": "code",
   "execution_count": 18,
   "id": "2fbd82ec-4176-4abf-9f95-a4ebcc7a43e7",
   "metadata": {},
   "outputs": [
    {
     "data": {
      "text/plain": [
       "array([[0.68847783, 0.08623467, 0.        , ..., 0.        , 0.0440466 ,\n",
       "        0.        ],\n",
       "       [0.72434698, 0.2020181 , 0.        , ..., 0.10610181, 0.        ,\n",
       "        0.        ],\n",
       "       [0.79464059, 0.0926627 , 0.        , ..., 0.0926627 , 0.        ,\n",
       "        0.04740426],\n",
       "       ...,\n",
       "       [0.        , 0.        , 0.        , ..., 0.        , 0.        ,\n",
       "        0.        ],\n",
       "       [0.        , 0.        , 0.        , ..., 0.        , 0.        ,\n",
       "        0.        ],\n",
       "       [0.        , 0.        , 0.        , ..., 0.        , 0.        ,\n",
       "        0.        ]])"
      ]
     },
     "execution_count": 18,
     "metadata": {},
     "output_type": "execute_result"
    }
   ],
   "source": [
    "adata_concat.X.toarray()"
   ]
  },
  {
   "cell_type": "markdown",
   "id": "8383a234",
   "metadata": {},
   "source": [
    "## Showing Result "
   ]
  },
  {
   "cell_type": "markdown",
   "id": "407aef8e",
   "metadata": {},
   "source": [
    "We use the following code to get the aligned embeddings and plot them in 2D-UMAP to see that whether they are aligned well."
   ]
  },
  {
   "cell_type": "code",
   "execution_count": null,
   "id": "3f1df816-a5f9-448c-bc62-448b3f70df3b",
   "metadata": {
    "scrolled": true
   },
   "outputs": [
    {
     "data": {
      "image/png": "[encoded data removed]",
      "text/plain": [
       "<Figure size 300x300 with 1 Axes>"
      ]
     },
     "metadata": {},
     "output_type": "display_data"
    }
   ],
   "source": [
    "sc.pp.neighbors(adata_concat, use_rep='AlignedEmbedding', random_state=666)\n",
    "sc.tl.umap(adata_concat, random_state=666)\n",
    "section_color = ['#f8766d', '#7cae00']\n",
    "section_color_dict = dict(zip(section_ids, section_color))\n",
    "adata_concat.uns['batch_name_colors'] = [section_color_dict[x] for x in adata_concat.obs.batch_name.cat.categories]\n",
    "import matplotlib.pyplot as plt\n",
    "plt.rcParams[\"figure.figsize\"] = (3, 3)\n",
    "sc.pl.umap(adata_concat, color='batch_name',ncols = 1,\n",
    "           wspace=0.5, show=True)"
   ]
  },
  {
   "cell_type": "code",
   "execution_count": 20,
   "id": "03845447-63c2-4a8f-9d4f-bf711912d4ab",
   "metadata": {},
   "outputs": [
    {
     "data": {
      "text/plain": [
       "(3888, 128)"
      ]
     },
     "execution_count": 20,
     "metadata": {},
     "output_type": "execute_result"
    }
   ],
   "source": [
    "adata_concat.obsm['AlignedEmbedding'].shape"
   ]
  },
  {
   "cell_type": "code",
   "execution_count": 21,
   "id": "e44f3dd1-8381-4230-86c9-4b68478e2bd4",
   "metadata": {},
   "outputs": [
    {
     "data": {
      "text/plain": [
       "AnnData object with n_obs × n_vars = 3888 × 7199\n",
       "    obs: 'Sample', 'TSSEnrichment', 'ReadsInTSS', 'ReadsInPromoter', 'ReadsInBlacklist', 'PromoterRatio', 'PassQC', 'NucleosomeRatio', 'nMultiFrags', 'nMonoFrags', 'nFrags', 'nDiFrags', 'Gex_RiboRatio', 'Gex_nUMI', 'Gex_nGenes', 'Gex_MitoRatio', 'BlacklistRatio', 'array_col', 'array_row', 'cell_type', 'slice_name', 'batch_name'\n",
       "    uns: 'edgeList', 'neighbors', 'umap', 'batch_name_colors'\n",
       "    obsm: 'insertion', 'spatial', 'SpaAligner', 'AlignedEmbedding', 'X_umap'\n",
       "    obsp: 'distances', 'connectivities'"
      ]
     },
     "execution_count": 21,
     "metadata": {},
     "output_type": "execute_result"
    }
   ],
   "source": [
    "adata_concat"
   ]
  },
  {
   "cell_type": "code",
   "execution_count": 22,
   "id": "05762c3d-421c-4a56-9abf-af0ca80a5762",
   "metadata": {},
   "outputs": [
    {
     "data": {
      "text/plain": [
       "GCCGCAACGCCGCAAC-1_E15_5-S1    E15_5-S1_atac\n",
       "GCCATTCTGCCATTCT-1_E15_5-S1    E15_5-S1_atac\n",
       "TGCGGACCTGCGGACC-1_E15_5-S1    E15_5-S1_atac\n",
       "ACTATGCAACTATGCA-1_E15_5-S1    E15_5-S1_atac\n",
       "TAGATCTATAGATCTA-1_E15_5-S1    E15_5-S1_atac\n",
       "                                   ...      \n",
       "TTATTCATGAAGATCG-1_E15_5-S2    E15_5-S2_atac\n",
       "TTATTCATATAAGGAG-1_E15_5-S2    E15_5-S2_atac\n",
       "ATCATATTTCCGGCCT-1_E15_5-S2    E15_5-S2_atac\n",
       "ACTTAACCGGTATGCT-1_E15_5-S2    E15_5-S2_atac\n",
       "GCCGCAACATAAGGAG-1_E15_5-S2    E15_5-S2_atac\n",
       "Name: slice_name, Length: 3888, dtype: category\n",
       "Categories (2, object): ['E15_5-S1_atac', 'E15_5-S2_atac']"
      ]
     },
     "execution_count": 22,
     "metadata": {},
     "output_type": "execute_result"
    }
   ],
   "source": [
    "adata_concat.obs['slice_name']"
   ]
  },
  {
   "cell_type": "markdown",
   "id": "b7500390",
   "metadata": {},
   "source": [
    "## Save the Results and Embeddings"
   ]
  },
  {
   "cell_type": "code",
   "execution_count": 23,
   "id": "f92ab98e-1957-42d4-8914-e45af7091298",
   "metadata": {},
   "outputs": [
    {
     "data": {
      "text/plain": [
       "AnnData object with n_obs × n_vars = 1949 × 265014\n",
       "    obs: 'gex_barcode', 'atac_barcode', 'is_cell', 'excluded_reason', 'gex_raw_reads', 'gex_mapped_reads', 'gex_conf_intergenic_reads', 'gex_conf_exonic_reads', 'gex_conf_intronic_reads', 'gex_conf_exonic_unique_reads', 'gex_conf_exonic_antisense_reads', 'gex_conf_exonic_dup_reads', 'gex_exonic_umis', 'gex_conf_intronic_unique_reads', 'gex_conf_intronic_antisense_reads', 'gex_conf_intronic_dup_reads', 'gex_intronic_umis', 'gex_conf_txomic_unique_reads', 'gex_umis_count', 'gex_genes_count', 'atac_raw_reads', 'atac_unmapped_reads', 'atac_lowmapq', 'atac_dup_reads', 'atac_chimeric_reads', 'atac_mitochondrial_reads', 'atac_fragments', 'atac_TSS_fragments', 'atac_peak_region_fragments', 'atac_peak_region_cutsites', 'Sample', 'TSSEnrichment', 'ReadsInTSS', 'ReadsInPromoter', 'ReadsInBlacklist', 'PromoterRatio', 'PassQC', 'NucleosomeRatio', 'nMultiFrags', 'nMonoFrags', 'nFrags', 'nDiFrags', 'Gex_RiboRatio', 'Gex_nUMI', 'Gex_nGenes', 'Gex_MitoRatio', 'BlacklistRatio', 'array_col', 'array_row', 'Harmony_ATAC_0.35', 'Harmony_RNA_0.7', 'Harmony_Combined_1.2_mergeCortex', 'ReadsInPeaks', 'FRIP', 'Annotation_for_Combined', 'cell_type'\n",
       "    var: 'Peaks', 'E15_5-S1'\n",
       "    uns: 'peaks', 'reference_sequences'\n",
       "    obsm: 'insertion', 'spatial'"
      ]
     },
     "execution_count": 23,
     "metadata": {},
     "output_type": "execute_result"
    }
   ],
   "source": [
    "E15_S1 = sc.read_h5ad('To_train_' + 'E15_5-S1'+ '_atac.h5ad')\n",
    "E15_S1"
   ]
  },
  {
   "cell_type": "code",
   "execution_count": 24,
   "id": "2514ecd7-a492-4c01-a9f7-54735b2203ae",
   "metadata": {},
   "outputs": [],
   "source": [
    "E15_S1.obsm['AlignedEmbedding'] = adata_concat.obsm['AlignedEmbedding'][0:1949, :]\n",
    "E15_S1.write_h5ad('After_train_' + 'E15_5-S1' + '_atac.h5ad')"
   ]
  },
  {
   "cell_type": "code",
   "execution_count": 25,
   "id": "fd028e3b-1be6-4728-8930-0f6f26d3e354",
   "metadata": {},
   "outputs": [],
   "source": [
    "E15_S2 = sc.read_h5ad('To_train_' + 'E15_5-S2'+ '_atac.h5ad')"
   ]
  },
  {
   "cell_type": "code",
   "execution_count": 26,
   "id": "cb162032-c528-4586-b8b2-8180005233ec",
   "metadata": {},
   "outputs": [
    {
     "data": {
      "text/plain": [
       "AnnData object with n_obs × n_vars = 1939 × 244394\n",
       "    obs: 'tsse', 'n_fragment', 'frac_dup', 'frac_mito', 'sample', 'Sample', 'TSSEnrichment', 'ReadsInTSS', 'ReadsInPromoter', 'ReadsInBlacklist', 'PromoterRatio', 'PassQC', 'NucleosomeRatio', 'nMultiFrags', 'nMonoFrags', 'nFrags', 'nDiFrags', 'Gex_RiboRatio', 'Gex_nUMI', 'Gex_nGenes', 'Gex_MitoRatio', 'BlacklistRatio', 'array_col', 'array_row', 'Combined_Clusters', 'RNA_Clusters', 'ATAC_Clusters', 'cell_type'\n",
       "    uns: 'peaks', 'reference_sequences'\n",
       "    obsm: 'insertion', 'spatial'"
      ]
     },
     "execution_count": 26,
     "metadata": {},
     "output_type": "execute_result"
    }
   ],
   "source": [
    "E15_S2"
   ]
  },
  {
   "cell_type": "code",
   "execution_count": 27,
   "id": "89aa4c64-40e2-4823-8193-5a433f70ac0b",
   "metadata": {},
   "outputs": [
    {
     "data": {
      "text/plain": [
       "(1939, 128)"
      ]
     },
     "execution_count": 27,
     "metadata": {},
     "output_type": "execute_result"
    }
   ],
   "source": [
    "adata_concat.obsm['AlignedEmbedding'][1949:, :].shape"
   ]
  },
  {
   "cell_type": "code",
   "execution_count": 28,
   "id": "3f251c00-a4ff-47d5-a910-834021182986",
   "metadata": {},
   "outputs": [
    {
     "data": {
      "text/plain": [
       "GCAGGTCCGCAGGTCC-1_E15_5-S2    E15_5-S2_atac\n",
       "TAGATCTATAGATCTA-1_E15_5-S2    E15_5-S2_atac\n",
       "CAACCGCTCAACCGCT-1_E15_5-S2    E15_5-S2_atac\n",
       "TAGAGTAATAGAGTAA-1_E15_5-S2    E15_5-S2_atac\n",
       "ACTATGCAACTATGCA-1_E15_5-S2    E15_5-S2_atac\n",
       "                                   ...      \n",
       "TTATTCATGAAGATCG-1_E15_5-S2    E15_5-S2_atac\n",
       "TTATTCATATAAGGAG-1_E15_5-S2    E15_5-S2_atac\n",
       "ATCATATTTCCGGCCT-1_E15_5-S2    E15_5-S2_atac\n",
       "ACTTAACCGGTATGCT-1_E15_5-S2    E15_5-S2_atac\n",
       "GCCGCAACATAAGGAG-1_E15_5-S2    E15_5-S2_atac\n",
       "Name: slice_name, Length: 1939, dtype: category\n",
       "Categories (2, object): ['E15_5-S1_atac', 'E15_5-S2_atac']"
      ]
     },
     "execution_count": 28,
     "metadata": {},
     "output_type": "execute_result"
    }
   ],
   "source": [
    "adata_concat.obs['slice_name'].iloc[1949:]"
   ]
  },
  {
   "cell_type": "code",
   "execution_count": 29,
   "id": "84e7b02f-6053-44ce-9c5c-a2c8379d5c1c",
   "metadata": {},
   "outputs": [],
   "source": [
    "E15_S2.obsm['AlignedEmbedding'] = adata_concat.obsm['AlignedEmbedding'][1949:, :]"
   ]
  },
  {
   "cell_type": "code",
   "execution_count": 30,
   "id": "b696cb69-f502-476f-a815-a8e1ff83dd50",
   "metadata": {},
   "outputs": [],
   "source": [
    "E15_S2.write_h5ad('After_train_' + 'E15_5-S2' + '_atac.h5ad')"
   ]
  }
 ],
 "metadata": {
  "kernelspec": {
   "display_name": "Python (SpaTranslator)",
   "language": "python",
   "name": "spatranslator"
  },
  "language_info": {
   "codemirror_mode": {
    "name": "ipython",
    "version": 3
   },
   "file_extension": ".py",
   "mimetype": "text/x-python",
   "name": "python",
   "nbconvert_exporter": "python",
   "pygments_lexer": "ipython3",
   "version": "3.9.21"
  }
 },
 "nbformat": 4,
 "nbformat_minor": 5
}
