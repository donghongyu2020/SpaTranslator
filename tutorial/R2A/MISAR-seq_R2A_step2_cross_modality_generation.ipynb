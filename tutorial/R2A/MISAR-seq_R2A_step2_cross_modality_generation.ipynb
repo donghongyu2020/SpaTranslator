{
 "cells": [
  {
   "cell_type": "markdown",
   "id": "39ae8e4e",
   "metadata": {},
   "source": [
    "## Tutorial for RNA to ATAC Cross-Modality Generation Step2"
   ]
  },
  {
   "cell_type": "markdown",
   "id": "ac6d8654",
   "metadata": {},
   "source": [
    "Hi, this is the tutorial for RNA to ATAC (denoted as R2A) cross-modality generation. We take the MISAR-seq dataset as an example in this task. Detailed results about this task will be found in figure 3 in our paper.\n",
    "\n",
    "To be specific, our model input is three types of data: \n",
    "* a set of paired spatial multi-omics data from the same slice (denoted as S1R and S1A in our paper and figure 1) \n",
    "* a single-modality spatial data from another slice (denoted as S2R in our paper and figure 1) \n",
    "\n",
    "Our target is to generate the missing modality for S2, that is S2A.\n",
    "\n",
    "We divide the whole process into 2 files. This file is step 2, which is the core generation framework. If you do not run step 1, please go back to that file.\n"
   ]
  },
  {
   "cell_type": "markdown",
   "id": "c2564639",
   "metadata": {},
   "source": [
    "## Read in data"
   ]
  },
  {
   "cell_type": "code",
   "execution_count": 1,
   "id": "3dee0084",
   "metadata": {},
   "outputs": [],
   "source": [
    "%load_ext autoreload\n",
    "%autoreload 2"
   ]
  },
  {
   "cell_type": "code",
   "execution_count": 1,
   "id": "c49da12a",
   "metadata": {
    "ExecuteTime": {
     "end_time": "2023-01-15T14:59:55.797200Z",
     "start_time": "2023-01-15T14:59:53.653936Z"
    }
   },
   "outputs": [],
   "source": [
    "import scanpy as sc"
   ]
  },
  {
   "cell_type": "code",
   "execution_count": 2,
   "id": "b025189b",
   "metadata": {},
   "outputs": [],
   "source": [
    "import torch\n",
    "used_device = torch.device('cuda:0' if torch.cuda.is_available() else 'cpu')\n",
    "\n",
    "#set working device\n",
    "torch.cuda.set_device(used_device)"
   ]
  },
  {
   "cell_type": "code",
   "execution_count": null,
   "id": "c684fa77",
   "metadata": {},
   "outputs": [],
   "source": [
    "import os\n",
    "os.chdir('/home/yurworkingpth/SpatialTranslator')"
   ]
  },
  {
   "cell_type": "code",
   "execution_count": 5,
   "id": "3a68582c",
   "metadata": {},
   "outputs": [],
   "source": [
    "os.chdir('/workdir/sm2888/ST')"
   ]
  },
  {
   "cell_type": "code",
   "execution_count": 6,
   "id": "660c4232",
   "metadata": {},
   "outputs": [
    {
     "name": "stdout",
     "output_type": "stream",
     "text": [
      "\n",
      "    _____               ______                           __        __              \n",
      "   / ___/ ____   ____ _/_  __/_____ ____ _ ____   _____ / /____ _ / /_ ____   _____\n",
      "   \\__ \\ / __ \\ / __ `/ / /  / ___// __ `// __ \\ / ___// // __ `// __// __ \\ / ___/\n",
      "  ___/ // /_/ // /_/ / / /  / /   / /_/ // / / /(__  )/ // /_/ // /_ / /_/ // /    \n",
      " /____// .___/ \\__,_/ /_/  /_/    \\__,_//_/ /_//____//_/ \\__,_/ \\__/ \\____//_/     \n",
      "      /_/                                                                           \n",
      "\n",
      "SpaTranslator v1.0.8     \n",
      "\n"
     ]
    }
   ],
   "source": [
    "import SpaTranslator as spt"
   ]
  },
  {
   "cell_type": "markdown",
   "id": "b0cf6f89",
   "metadata": {},
   "source": [
    "We read the After_train data from step 1."
   ]
  },
  {
   "cell_type": "code",
   "execution_count": 8,
   "id": "ee759ce5-dd82-4776-b122-6efa06c4e1d6",
   "metadata": {},
   "outputs": [],
   "source": [
    "S1_ATAC_data = sc.read_h5ad('filtered_merged_E15_5-S1_atac.h5ad')"
   ]
  },
  {
   "cell_type": "code",
   "execution_count": 9,
   "id": "063ff825-e3a4-4bef-ad41-5c943de322ef",
   "metadata": {},
   "outputs": [
    {
     "data": {
      "text/plain": [
       "array([[ 0,  4, 22, ...,  0,  0,  0],\n",
       "       [ 0,  2, 19, ...,  0,  0,  0],\n",
       "       [ 0,  2, 25, ...,  0,  0,  0],\n",
       "       ...,\n",
       "       [ 0,  0,  0, ...,  0,  0,  0],\n",
       "       [ 0,  0,  0, ...,  0,  0,  0],\n",
       "       [ 0,  0,  0, ...,  0,  0,  0]])"
      ]
     },
     "execution_count": 9,
     "metadata": {},
     "output_type": "execute_result"
    }
   ],
   "source": [
    "S1_ATAC_data.X.toarray()"
   ]
  },
  {
   "cell_type": "code",
   "execution_count": 10,
   "id": "cf9c84ef-ef86-4a0c-adcd-36beef79e437",
   "metadata": {},
   "outputs": [
    {
     "data": {
      "text/plain": [
       "AnnData object with n_obs × n_vars = 1949 × 70249\n",
       "    obs: 'gex_barcode', 'atac_barcode', 'is_cell', 'excluded_reason', 'gex_raw_reads', 'gex_mapped_reads', 'gex_conf_intergenic_reads', 'gex_conf_exonic_reads', 'gex_conf_intronic_reads', 'gex_conf_exonic_unique_reads', 'gex_conf_exonic_antisense_reads', 'gex_conf_exonic_dup_reads', 'gex_exonic_umis', 'gex_conf_intronic_unique_reads', 'gex_conf_intronic_antisense_reads', 'gex_conf_intronic_dup_reads', 'gex_intronic_umis', 'gex_conf_txomic_unique_reads', 'gex_umis_count', 'gex_genes_count', 'atac_raw_reads', 'atac_unmapped_reads', 'atac_lowmapq', 'atac_dup_reads', 'atac_chimeric_reads', 'atac_mitochondrial_reads', 'atac_fragments', 'atac_TSS_fragments', 'atac_peak_region_fragments', 'atac_peak_region_cutsites', 'Sample', 'TSSEnrichment', 'ReadsInTSS', 'ReadsInPromoter', 'ReadsInBlacklist', 'PromoterRatio', 'PassQC', 'NucleosomeRatio', 'nMultiFrags', 'nMonoFrags', 'nFrags', 'nDiFrags', 'Gex_RiboRatio', 'Gex_nUMI', 'Gex_nGenes', 'Gex_MitoRatio', 'BlacklistRatio', 'array_col', 'array_row', 'Harmony_ATAC_0.35', 'Harmony_RNA_0.7', 'Harmony_Combined_1.2_mergeCortex', 'ReadsInPeaks', 'FRIP', 'Annotation_for_Combined', 'cell_type'\n",
       "    obsm: 'insertion', 'spatial'"
      ]
     },
     "execution_count": 10,
     "metadata": {},
     "output_type": "execute_result"
    }
   ],
   "source": [
    "S1_ATAC_data"
   ]
  },
  {
   "cell_type": "code",
   "execution_count": 11,
   "id": "8657e62e-e283-4100-bea2-ca585b800fa1",
   "metadata": {},
   "outputs": [],
   "source": [
    "S1_RNA_data = sc.read_h5ad('After_train_E15_5-S1_expr.h5ad')"
   ]
  },
  {
   "cell_type": "code",
   "execution_count": 12,
   "id": "ba4d3f79-43bc-4905-a7c6-d87b82f1e334",
   "metadata": {},
   "outputs": [
    {
     "data": {
      "text/html": [
       "<div>\n",
       "<style scoped>\n",
       "    .dataframe tbody tr th:only-of-type {\n",
       "        vertical-align: middle;\n",
       "    }\n",
       "\n",
       "    .dataframe tbody tr th {\n",
       "        vertical-align: top;\n",
       "    }\n",
       "\n",
       "    .dataframe thead th {\n",
       "        text-align: right;\n",
       "    }\n",
       "</style>\n",
       "<table border=\"1\" class=\"dataframe\">\n",
       "  <thead>\n",
       "    <tr style=\"text-align: right;\">\n",
       "      <th></th>\n",
       "      <th>gex_barcode</th>\n",
       "      <th>atac_barcode</th>\n",
       "      <th>is_cell</th>\n",
       "      <th>excluded_reason</th>\n",
       "      <th>gex_raw_reads</th>\n",
       "      <th>gex_mapped_reads</th>\n",
       "      <th>gex_conf_intergenic_reads</th>\n",
       "      <th>gex_conf_exonic_reads</th>\n",
       "      <th>gex_conf_intronic_reads</th>\n",
       "      <th>gex_conf_exonic_unique_reads</th>\n",
       "      <th>...</th>\n",
       "      <th>array_col</th>\n",
       "      <th>array_row</th>\n",
       "      <th>Harmony_ATAC_0.35</th>\n",
       "      <th>Harmony_RNA_0.7</th>\n",
       "      <th>Harmony_Combined_1.2_mergeCortex</th>\n",
       "      <th>ReadsInPeaks</th>\n",
       "      <th>FRIP</th>\n",
       "      <th>Annotation_for_Combined</th>\n",
       "      <th>Ground Truth</th>\n",
       "      <th>cell_type</th>\n",
       "    </tr>\n",
       "  </thead>\n",
       "  <tbody>\n",
       "    <tr>\n",
       "      <th>GCCGCAACGCCGCAAC-1</th>\n",
       "      <td>GCCGCAACGCCGCAAC-1</td>\n",
       "      <td>GCCGCAACGCCGCAAC-1</td>\n",
       "      <td>1</td>\n",
       "      <td>0</td>\n",
       "      <td>200903</td>\n",
       "      <td>184493</td>\n",
       "      <td>21684</td>\n",
       "      <td>53624</td>\n",
       "      <td>99766</td>\n",
       "      <td>47535</td>\n",
       "      <td>...</td>\n",
       "      <td>24</td>\n",
       "      <td>27</td>\n",
       "      <td>1</td>\n",
       "      <td>3</td>\n",
       "      <td>6</td>\n",
       "      <td>251389</td>\n",
       "      <td>0.411932</td>\n",
       "      <td>Cartilage_2</td>\n",
       "      <td>Cartilage_2</td>\n",
       "      <td>Cartilage_2</td>\n",
       "    </tr>\n",
       "    <tr>\n",
       "      <th>GCCATTCTGCCATTCT-1</th>\n",
       "      <td>GCCATTCTGCCATTCT-1</td>\n",
       "      <td>GCCATTCTGCCATTCT-1</td>\n",
       "      <td>1</td>\n",
       "      <td>0</td>\n",
       "      <td>332851</td>\n",
       "      <td>305088</td>\n",
       "      <td>44055</td>\n",
       "      <td>92452</td>\n",
       "      <td>149887</td>\n",
       "      <td>82154</td>\n",
       "      <td>...</td>\n",
       "      <td>34</td>\n",
       "      <td>17</td>\n",
       "      <td>10</td>\n",
       "      <td>3</td>\n",
       "      <td>13</td>\n",
       "      <td>203006</td>\n",
       "      <td>0.342920</td>\n",
       "      <td>Diencephalon_and_hindbrain</td>\n",
       "      <td>Diencephalon_and_hindbrain</td>\n",
       "      <td>Diencephalon_and_hindbrain</td>\n",
       "    </tr>\n",
       "    <tr>\n",
       "      <th>TGCGGACCTGCGGACC-1</th>\n",
       "      <td>TGCGGACCTGCGGACC-1</td>\n",
       "      <td>TGCGGACCTGCGGACC-1</td>\n",
       "      <td>1</td>\n",
       "      <td>0</td>\n",
       "      <td>285439</td>\n",
       "      <td>264247</td>\n",
       "      <td>40488</td>\n",
       "      <td>76256</td>\n",
       "      <td>129985</td>\n",
       "      <td>67674</td>\n",
       "      <td>...</td>\n",
       "      <td>22</td>\n",
       "      <td>29</td>\n",
       "      <td>1</td>\n",
       "      <td>3</td>\n",
       "      <td>10</td>\n",
       "      <td>232649</td>\n",
       "      <td>0.405886</td>\n",
       "      <td>Thalamus</td>\n",
       "      <td>Thalamus</td>\n",
       "      <td>Thalamus</td>\n",
       "    </tr>\n",
       "    <tr>\n",
       "      <th>ACTATGCAACTATGCA-1</th>\n",
       "      <td>ACTATGCAACTATGCA-1</td>\n",
       "      <td>ACTATGCAACTATGCA-1</td>\n",
       "      <td>0</td>\n",
       "      <td>1</td>\n",
       "      <td>179671</td>\n",
       "      <td>164554</td>\n",
       "      <td>28576</td>\n",
       "      <td>51311</td>\n",
       "      <td>71767</td>\n",
       "      <td>45917</td>\n",
       "      <td>...</td>\n",
       "      <td>13</td>\n",
       "      <td>38</td>\n",
       "      <td>4</td>\n",
       "      <td>11</td>\n",
       "      <td>8</td>\n",
       "      <td>214881</td>\n",
       "      <td>0.396050</td>\n",
       "      <td>Mesenchyme</td>\n",
       "      <td>Mesenchyme</td>\n",
       "      <td>Mesenchyme</td>\n",
       "    </tr>\n",
       "    <tr>\n",
       "      <th>TAGATCTATAGATCTA-1</th>\n",
       "      <td>TAGATCTATAGATCTA-1</td>\n",
       "      <td>TAGATCTATAGATCTA-1</td>\n",
       "      <td>1</td>\n",
       "      <td>0</td>\n",
       "      <td>305439</td>\n",
       "      <td>280980</td>\n",
       "      <td>38357</td>\n",
       "      <td>86695</td>\n",
       "      <td>138397</td>\n",
       "      <td>77058</td>\n",
       "      <td>...</td>\n",
       "      <td>20</td>\n",
       "      <td>31</td>\n",
       "      <td>10</td>\n",
       "      <td>3</td>\n",
       "      <td>13</td>\n",
       "      <td>206150</td>\n",
       "      <td>0.382904</td>\n",
       "      <td>Diencephalon_and_hindbrain</td>\n",
       "      <td>Diencephalon_and_hindbrain</td>\n",
       "      <td>Diencephalon_and_hindbrain</td>\n",
       "    </tr>\n",
       "    <tr>\n",
       "      <th>...</th>\n",
       "      <td>...</td>\n",
       "      <td>...</td>\n",
       "      <td>...</td>\n",
       "      <td>...</td>\n",
       "      <td>...</td>\n",
       "      <td>...</td>\n",
       "      <td>...</td>\n",
       "      <td>...</td>\n",
       "      <td>...</td>\n",
       "      <td>...</td>\n",
       "      <td>...</td>\n",
       "      <td>...</td>\n",
       "      <td>...</td>\n",
       "      <td>...</td>\n",
       "      <td>...</td>\n",
       "      <td>...</td>\n",
       "      <td>...</td>\n",
       "      <td>...</td>\n",
       "      <td>...</td>\n",
       "      <td>...</td>\n",
       "      <td>...</td>\n",
       "    </tr>\n",
       "    <tr>\n",
       "      <th>TGAGTCTGTCCGGCCT-1</th>\n",
       "      <td>TGAGTCTGTCCGGCCT-1</td>\n",
       "      <td>TGAGTCTGTCCGGCCT-1</td>\n",
       "      <td>0</td>\n",
       "      <td>0</td>\n",
       "      <td>3103</td>\n",
       "      <td>2873</td>\n",
       "      <td>509</td>\n",
       "      <td>1042</td>\n",
       "      <td>1110</td>\n",
       "      <td>948</td>\n",
       "      <td>...</td>\n",
       "      <td>23</td>\n",
       "      <td>45</td>\n",
       "      <td>10</td>\n",
       "      <td>3</td>\n",
       "      <td>14</td>\n",
       "      <td>1190</td>\n",
       "      <td>0.372108</td>\n",
       "      <td>Midbrain</td>\n",
       "      <td>Midbrain</td>\n",
       "      <td>Midbrain</td>\n",
       "    </tr>\n",
       "    <tr>\n",
       "      <th>GATCTTACATAAGGAG-1</th>\n",
       "      <td>GATCTTACATAAGGAG-1</td>\n",
       "      <td>GATCTTACATAAGGAG-1</td>\n",
       "      <td>0</td>\n",
       "      <td>0</td>\n",
       "      <td>933</td>\n",
       "      <td>861</td>\n",
       "      <td>167</td>\n",
       "      <td>293</td>\n",
       "      <td>311</td>\n",
       "      <td>256</td>\n",
       "      <td>...</td>\n",
       "      <td>27</td>\n",
       "      <td>1</td>\n",
       "      <td>4</td>\n",
       "      <td>13</td>\n",
       "      <td>7</td>\n",
       "      <td>1074</td>\n",
       "      <td>0.359920</td>\n",
       "      <td>Cartilage_3</td>\n",
       "      <td>Cartilage_3</td>\n",
       "      <td>Cartilage_3</td>\n",
       "    </tr>\n",
       "    <tr>\n",
       "      <th>TCCGGCCTATAAGGAG-1</th>\n",
       "      <td>TCCGGCCTATAAGGAG-1</td>\n",
       "      <td>TCCGGCCTATAAGGAG-1</td>\n",
       "      <td>0</td>\n",
       "      <td>0</td>\n",
       "      <td>829</td>\n",
       "      <td>761</td>\n",
       "      <td>186</td>\n",
       "      <td>207</td>\n",
       "      <td>310</td>\n",
       "      <td>185</td>\n",
       "      <td>...</td>\n",
       "      <td>6</td>\n",
       "      <td>1</td>\n",
       "      <td>13</td>\n",
       "      <td>13</td>\n",
       "      <td>7</td>\n",
       "      <td>1095</td>\n",
       "      <td>0.374743</td>\n",
       "      <td>Cartilage_3</td>\n",
       "      <td>Cartilage_3</td>\n",
       "      <td>Cartilage_3</td>\n",
       "    </tr>\n",
       "    <tr>\n",
       "      <th>AGAGAAGGATAAGGAG-1</th>\n",
       "      <td>AGAGAAGGATAAGGAG-1</td>\n",
       "      <td>AGAGAAGGATAAGGAG-1</td>\n",
       "      <td>0</td>\n",
       "      <td>0</td>\n",
       "      <td>816</td>\n",
       "      <td>755</td>\n",
       "      <td>126</td>\n",
       "      <td>255</td>\n",
       "      <td>286</td>\n",
       "      <td>228</td>\n",
       "      <td>...</td>\n",
       "      <td>5</td>\n",
       "      <td>1</td>\n",
       "      <td>4</td>\n",
       "      <td>13</td>\n",
       "      <td>7</td>\n",
       "      <td>971</td>\n",
       "      <td>0.362313</td>\n",
       "      <td>Cartilage_3</td>\n",
       "      <td>Cartilage_3</td>\n",
       "      <td>Cartilage_3</td>\n",
       "    </tr>\n",
       "    <tr>\n",
       "      <th>ACTTAACCTCCGGCCT-1</th>\n",
       "      <td>ACTTAACCTCCGGCCT-1</td>\n",
       "      <td>ACTTAACCTCCGGCCT-1</td>\n",
       "      <td>0</td>\n",
       "      <td>0</td>\n",
       "      <td>3697</td>\n",
       "      <td>3442</td>\n",
       "      <td>397</td>\n",
       "      <td>1422</td>\n",
       "      <td>1402</td>\n",
       "      <td>1308</td>\n",
       "      <td>...</td>\n",
       "      <td>44</td>\n",
       "      <td>45</td>\n",
       "      <td>11</td>\n",
       "      <td>3</td>\n",
       "      <td>14</td>\n",
       "      <td>927</td>\n",
       "      <td>0.383692</td>\n",
       "      <td>Midbrain</td>\n",
       "      <td>Midbrain</td>\n",
       "      <td>Midbrain</td>\n",
       "    </tr>\n",
       "  </tbody>\n",
       "</table>\n",
       "<p>1949 rows × 57 columns</p>\n",
       "</div>"
      ],
      "text/plain": [
       "                           gex_barcode        atac_barcode  is_cell  \\\n",
       "GCCGCAACGCCGCAAC-1  GCCGCAACGCCGCAAC-1  GCCGCAACGCCGCAAC-1        1   \n",
       "GCCATTCTGCCATTCT-1  GCCATTCTGCCATTCT-1  GCCATTCTGCCATTCT-1        1   \n",
       "TGCGGACCTGCGGACC-1  TGCGGACCTGCGGACC-1  TGCGGACCTGCGGACC-1        1   \n",
       "ACTATGCAACTATGCA-1  ACTATGCAACTATGCA-1  ACTATGCAACTATGCA-1        0   \n",
       "TAGATCTATAGATCTA-1  TAGATCTATAGATCTA-1  TAGATCTATAGATCTA-1        1   \n",
       "...                                ...                 ...      ...   \n",
       "TGAGTCTGTCCGGCCT-1  TGAGTCTGTCCGGCCT-1  TGAGTCTGTCCGGCCT-1        0   \n",
       "GATCTTACATAAGGAG-1  GATCTTACATAAGGAG-1  GATCTTACATAAGGAG-1        0   \n",
       "TCCGGCCTATAAGGAG-1  TCCGGCCTATAAGGAG-1  TCCGGCCTATAAGGAG-1        0   \n",
       "AGAGAAGGATAAGGAG-1  AGAGAAGGATAAGGAG-1  AGAGAAGGATAAGGAG-1        0   \n",
       "ACTTAACCTCCGGCCT-1  ACTTAACCTCCGGCCT-1  ACTTAACCTCCGGCCT-1        0   \n",
       "\n",
       "                    excluded_reason  gex_raw_reads  gex_mapped_reads  \\\n",
       "GCCGCAACGCCGCAAC-1                0         200903            184493   \n",
       "GCCATTCTGCCATTCT-1                0         332851            305088   \n",
       "TGCGGACCTGCGGACC-1                0         285439            264247   \n",
       "ACTATGCAACTATGCA-1                1         179671            164554   \n",
       "TAGATCTATAGATCTA-1                0         305439            280980   \n",
       "...                             ...            ...               ...   \n",
       "TGAGTCTGTCCGGCCT-1                0           3103              2873   \n",
       "GATCTTACATAAGGAG-1                0            933               861   \n",
       "TCCGGCCTATAAGGAG-1                0            829               761   \n",
       "AGAGAAGGATAAGGAG-1                0            816               755   \n",
       "ACTTAACCTCCGGCCT-1                0           3697              3442   \n",
       "\n",
       "                    gex_conf_intergenic_reads  gex_conf_exonic_reads  \\\n",
       "GCCGCAACGCCGCAAC-1                      21684                  53624   \n",
       "GCCATTCTGCCATTCT-1                      44055                  92452   \n",
       "TGCGGACCTGCGGACC-1                      40488                  76256   \n",
       "ACTATGCAACTATGCA-1                      28576                  51311   \n",
       "TAGATCTATAGATCTA-1                      38357                  86695   \n",
       "...                                       ...                    ...   \n",
       "TGAGTCTGTCCGGCCT-1                        509                   1042   \n",
       "GATCTTACATAAGGAG-1                        167                    293   \n",
       "TCCGGCCTATAAGGAG-1                        186                    207   \n",
       "AGAGAAGGATAAGGAG-1                        126                    255   \n",
       "ACTTAACCTCCGGCCT-1                        397                   1422   \n",
       "\n",
       "                    gex_conf_intronic_reads  gex_conf_exonic_unique_reads  \\\n",
       "GCCGCAACGCCGCAAC-1                    99766                         47535   \n",
       "GCCATTCTGCCATTCT-1                   149887                         82154   \n",
       "TGCGGACCTGCGGACC-1                   129985                         67674   \n",
       "ACTATGCAACTATGCA-1                    71767                         45917   \n",
       "TAGATCTATAGATCTA-1                   138397                         77058   \n",
       "...                                     ...                           ...   \n",
       "TGAGTCTGTCCGGCCT-1                     1110                           948   \n",
       "GATCTTACATAAGGAG-1                      311                           256   \n",
       "TCCGGCCTATAAGGAG-1                      310                           185   \n",
       "AGAGAAGGATAAGGAG-1                      286                           228   \n",
       "ACTTAACCTCCGGCCT-1                     1402                          1308   \n",
       "\n",
       "                    ...  array_col  array_row  Harmony_ATAC_0.35  \\\n",
       "GCCGCAACGCCGCAAC-1  ...         24         27                  1   \n",
       "GCCATTCTGCCATTCT-1  ...         34         17                 10   \n",
       "TGCGGACCTGCGGACC-1  ...         22         29                  1   \n",
       "ACTATGCAACTATGCA-1  ...         13         38                  4   \n",
       "TAGATCTATAGATCTA-1  ...         20         31                 10   \n",
       "...                 ...        ...        ...                ...   \n",
       "TGAGTCTGTCCGGCCT-1  ...         23         45                 10   \n",
       "GATCTTACATAAGGAG-1  ...         27          1                  4   \n",
       "TCCGGCCTATAAGGAG-1  ...          6          1                 13   \n",
       "AGAGAAGGATAAGGAG-1  ...          5          1                  4   \n",
       "ACTTAACCTCCGGCCT-1  ...         44         45                 11   \n",
       "\n",
       "                    Harmony_RNA_0.7  Harmony_Combined_1.2_mergeCortex  \\\n",
       "GCCGCAACGCCGCAAC-1                3                                 6   \n",
       "GCCATTCTGCCATTCT-1                3                                13   \n",
       "TGCGGACCTGCGGACC-1                3                                10   \n",
       "ACTATGCAACTATGCA-1               11                                 8   \n",
       "TAGATCTATAGATCTA-1                3                                13   \n",
       "...                             ...                               ...   \n",
       "TGAGTCTGTCCGGCCT-1                3                                14   \n",
       "GATCTTACATAAGGAG-1               13                                 7   \n",
       "TCCGGCCTATAAGGAG-1               13                                 7   \n",
       "AGAGAAGGATAAGGAG-1               13                                 7   \n",
       "ACTTAACCTCCGGCCT-1                3                                14   \n",
       "\n",
       "                    ReadsInPeaks      FRIP     Annotation_for_Combined  \\\n",
       "GCCGCAACGCCGCAAC-1        251389  0.411932                 Cartilage_2   \n",
       "GCCATTCTGCCATTCT-1        203006  0.342920  Diencephalon_and_hindbrain   \n",
       "TGCGGACCTGCGGACC-1        232649  0.405886                    Thalamus   \n",
       "ACTATGCAACTATGCA-1        214881  0.396050                  Mesenchyme   \n",
       "TAGATCTATAGATCTA-1        206150  0.382904  Diencephalon_and_hindbrain   \n",
       "...                          ...       ...                         ...   \n",
       "TGAGTCTGTCCGGCCT-1          1190  0.372108                    Midbrain   \n",
       "GATCTTACATAAGGAG-1          1074  0.359920                 Cartilage_3   \n",
       "TCCGGCCTATAAGGAG-1          1095  0.374743                 Cartilage_3   \n",
       "AGAGAAGGATAAGGAG-1           971  0.362313                 Cartilage_3   \n",
       "ACTTAACCTCCGGCCT-1           927  0.383692                    Midbrain   \n",
       "\n",
       "                                  Ground Truth                   cell_type  \n",
       "GCCGCAACGCCGCAAC-1                 Cartilage_2                 Cartilage_2  \n",
       "GCCATTCTGCCATTCT-1  Diencephalon_and_hindbrain  Diencephalon_and_hindbrain  \n",
       "TGCGGACCTGCGGACC-1                    Thalamus                    Thalamus  \n",
       "ACTATGCAACTATGCA-1                  Mesenchyme                  Mesenchyme  \n",
       "TAGATCTATAGATCTA-1  Diencephalon_and_hindbrain  Diencephalon_and_hindbrain  \n",
       "...                                        ...                         ...  \n",
       "TGAGTCTGTCCGGCCT-1                    Midbrain                    Midbrain  \n",
       "GATCTTACATAAGGAG-1                 Cartilage_3                 Cartilage_3  \n",
       "TCCGGCCTATAAGGAG-1                 Cartilage_3                 Cartilage_3  \n",
       "AGAGAAGGATAAGGAG-1                 Cartilage_3                 Cartilage_3  \n",
       "ACTTAACCTCCGGCCT-1                    Midbrain                    Midbrain  \n",
       "\n",
       "[1949 rows x 57 columns]"
      ]
     },
     "execution_count": 12,
     "metadata": {},
     "output_type": "execute_result"
    }
   ],
   "source": [
    "S1_RNA_data.obs"
   ]
  },
  {
   "cell_type": "code",
   "execution_count": 13,
   "id": "08c01054-e9dc-4e80-bae1-4c1ea3ae80b3",
   "metadata": {},
   "outputs": [
    {
     "data": {
      "text/html": [
       "<div>\n",
       "<style scoped>\n",
       "    .dataframe tbody tr th:only-of-type {\n",
       "        vertical-align: middle;\n",
       "    }\n",
       "\n",
       "    .dataframe tbody tr th {\n",
       "        vertical-align: top;\n",
       "    }\n",
       "\n",
       "    .dataframe thead th {\n",
       "        text-align: right;\n",
       "    }\n",
       "</style>\n",
       "<table border=\"1\" class=\"dataframe\">\n",
       "  <thead>\n",
       "    <tr style=\"text-align: right;\">\n",
       "      <th></th>\n",
       "      <th>gex_barcode</th>\n",
       "      <th>atac_barcode</th>\n",
       "      <th>is_cell</th>\n",
       "      <th>excluded_reason</th>\n",
       "      <th>gex_raw_reads</th>\n",
       "      <th>gex_mapped_reads</th>\n",
       "      <th>gex_conf_intergenic_reads</th>\n",
       "      <th>gex_conf_exonic_reads</th>\n",
       "      <th>gex_conf_intronic_reads</th>\n",
       "      <th>gex_conf_exonic_unique_reads</th>\n",
       "      <th>...</th>\n",
       "      <th>BlacklistRatio</th>\n",
       "      <th>array_col</th>\n",
       "      <th>array_row</th>\n",
       "      <th>Harmony_ATAC_0.35</th>\n",
       "      <th>Harmony_RNA_0.7</th>\n",
       "      <th>Harmony_Combined_1.2_mergeCortex</th>\n",
       "      <th>ReadsInPeaks</th>\n",
       "      <th>FRIP</th>\n",
       "      <th>Annotation_for_Combined</th>\n",
       "      <th>cell_type</th>\n",
       "    </tr>\n",
       "  </thead>\n",
       "  <tbody>\n",
       "    <tr>\n",
       "      <th>GCCGCAACGCCGCAAC-1_E15_5-S1</th>\n",
       "      <td>GCCGCAACGCCGCAAC-1</td>\n",
       "      <td>GCCGCAACGCCGCAAC-1</td>\n",
       "      <td>1</td>\n",
       "      <td>0</td>\n",
       "      <td>200903</td>\n",
       "      <td>184493</td>\n",
       "      <td>21684</td>\n",
       "      <td>53624</td>\n",
       "      <td>99766</td>\n",
       "      <td>47535</td>\n",
       "      <td>...</td>\n",
       "      <td>0.055156</td>\n",
       "      <td>24</td>\n",
       "      <td>27</td>\n",
       "      <td>1</td>\n",
       "      <td>3</td>\n",
       "      <td>6</td>\n",
       "      <td>251389</td>\n",
       "      <td>0.411932</td>\n",
       "      <td>Cartilage_2</td>\n",
       "      <td>Cartilage_2</td>\n",
       "    </tr>\n",
       "    <tr>\n",
       "      <th>GCCATTCTGCCATTCT-1_E15_5-S1</th>\n",
       "      <td>GCCATTCTGCCATTCT-1</td>\n",
       "      <td>GCCATTCTGCCATTCT-1</td>\n",
       "      <td>1</td>\n",
       "      <td>0</td>\n",
       "      <td>332851</td>\n",
       "      <td>305088</td>\n",
       "      <td>44055</td>\n",
       "      <td>92452</td>\n",
       "      <td>149887</td>\n",
       "      <td>82154</td>\n",
       "      <td>...</td>\n",
       "      <td>0.048516</td>\n",
       "      <td>34</td>\n",
       "      <td>17</td>\n",
       "      <td>10</td>\n",
       "      <td>3</td>\n",
       "      <td>13</td>\n",
       "      <td>203006</td>\n",
       "      <td>0.342920</td>\n",
       "      <td>Diencephalon_and_hindbrain</td>\n",
       "      <td>Diencephalon_and_hindbrain</td>\n",
       "    </tr>\n",
       "    <tr>\n",
       "      <th>TGCGGACCTGCGGACC-1_E15_5-S1</th>\n",
       "      <td>TGCGGACCTGCGGACC-1</td>\n",
       "      <td>TGCGGACCTGCGGACC-1</td>\n",
       "      <td>1</td>\n",
       "      <td>0</td>\n",
       "      <td>285439</td>\n",
       "      <td>264247</td>\n",
       "      <td>40488</td>\n",
       "      <td>76256</td>\n",
       "      <td>129985</td>\n",
       "      <td>67674</td>\n",
       "      <td>...</td>\n",
       "      <td>0.051738</td>\n",
       "      <td>22</td>\n",
       "      <td>29</td>\n",
       "      <td>1</td>\n",
       "      <td>3</td>\n",
       "      <td>10</td>\n",
       "      <td>232649</td>\n",
       "      <td>0.405886</td>\n",
       "      <td>Thalamus</td>\n",
       "      <td>Thalamus</td>\n",
       "    </tr>\n",
       "    <tr>\n",
       "      <th>ACTATGCAACTATGCA-1_E15_5-S1</th>\n",
       "      <td>ACTATGCAACTATGCA-1</td>\n",
       "      <td>ACTATGCAACTATGCA-1</td>\n",
       "      <td>0</td>\n",
       "      <td>1</td>\n",
       "      <td>179671</td>\n",
       "      <td>164554</td>\n",
       "      <td>28576</td>\n",
       "      <td>51311</td>\n",
       "      <td>71767</td>\n",
       "      <td>45917</td>\n",
       "      <td>...</td>\n",
       "      <td>0.049135</td>\n",
       "      <td>13</td>\n",
       "      <td>38</td>\n",
       "      <td>4</td>\n",
       "      <td>11</td>\n",
       "      <td>8</td>\n",
       "      <td>214881</td>\n",
       "      <td>0.396050</td>\n",
       "      <td>Mesenchyme</td>\n",
       "      <td>Mesenchyme</td>\n",
       "    </tr>\n",
       "    <tr>\n",
       "      <th>TAGATCTATAGATCTA-1_E15_5-S1</th>\n",
       "      <td>TAGATCTATAGATCTA-1</td>\n",
       "      <td>TAGATCTATAGATCTA-1</td>\n",
       "      <td>1</td>\n",
       "      <td>0</td>\n",
       "      <td>305439</td>\n",
       "      <td>280980</td>\n",
       "      <td>38357</td>\n",
       "      <td>86695</td>\n",
       "      <td>138397</td>\n",
       "      <td>77058</td>\n",
       "      <td>...</td>\n",
       "      <td>0.054035</td>\n",
       "      <td>20</td>\n",
       "      <td>31</td>\n",
       "      <td>10</td>\n",
       "      <td>3</td>\n",
       "      <td>13</td>\n",
       "      <td>206150</td>\n",
       "      <td>0.382904</td>\n",
       "      <td>Diencephalon_and_hindbrain</td>\n",
       "      <td>Diencephalon_and_hindbrain</td>\n",
       "    </tr>\n",
       "    <tr>\n",
       "      <th>...</th>\n",
       "      <td>...</td>\n",
       "      <td>...</td>\n",
       "      <td>...</td>\n",
       "      <td>...</td>\n",
       "      <td>...</td>\n",
       "      <td>...</td>\n",
       "      <td>...</td>\n",
       "      <td>...</td>\n",
       "      <td>...</td>\n",
       "      <td>...</td>\n",
       "      <td>...</td>\n",
       "      <td>...</td>\n",
       "      <td>...</td>\n",
       "      <td>...</td>\n",
       "      <td>...</td>\n",
       "      <td>...</td>\n",
       "      <td>...</td>\n",
       "      <td>...</td>\n",
       "      <td>...</td>\n",
       "      <td>...</td>\n",
       "      <td>...</td>\n",
       "    </tr>\n",
       "    <tr>\n",
       "      <th>TGAGTCTGTCCGGCCT-1_E15_5-S1</th>\n",
       "      <td>TGAGTCTGTCCGGCCT-1</td>\n",
       "      <td>TGAGTCTGTCCGGCCT-1</td>\n",
       "      <td>0</td>\n",
       "      <td>0</td>\n",
       "      <td>3103</td>\n",
       "      <td>2873</td>\n",
       "      <td>509</td>\n",
       "      <td>1042</td>\n",
       "      <td>1110</td>\n",
       "      <td>948</td>\n",
       "      <td>...</td>\n",
       "      <td>0.069375</td>\n",
       "      <td>23</td>\n",
       "      <td>45</td>\n",
       "      <td>10</td>\n",
       "      <td>3</td>\n",
       "      <td>14</td>\n",
       "      <td>1190</td>\n",
       "      <td>0.372108</td>\n",
       "      <td>Midbrain</td>\n",
       "      <td>Midbrain</td>\n",
       "    </tr>\n",
       "    <tr>\n",
       "      <th>GATCTTACATAAGGAG-1_E15_5-S1</th>\n",
       "      <td>GATCTTACATAAGGAG-1</td>\n",
       "      <td>GATCTTACATAAGGAG-1</td>\n",
       "      <td>0</td>\n",
       "      <td>0</td>\n",
       "      <td>933</td>\n",
       "      <td>861</td>\n",
       "      <td>167</td>\n",
       "      <td>293</td>\n",
       "      <td>311</td>\n",
       "      <td>256</td>\n",
       "      <td>...</td>\n",
       "      <td>0.042560</td>\n",
       "      <td>27</td>\n",
       "      <td>1</td>\n",
       "      <td>4</td>\n",
       "      <td>13</td>\n",
       "      <td>7</td>\n",
       "      <td>1074</td>\n",
       "      <td>0.359920</td>\n",
       "      <td>Cartilage_3</td>\n",
       "      <td>Cartilage_3</td>\n",
       "    </tr>\n",
       "    <tr>\n",
       "      <th>TCCGGCCTATAAGGAG-1_E15_5-S1</th>\n",
       "      <td>TCCGGCCTATAAGGAG-1</td>\n",
       "      <td>TCCGGCCTATAAGGAG-1</td>\n",
       "      <td>0</td>\n",
       "      <td>0</td>\n",
       "      <td>829</td>\n",
       "      <td>761</td>\n",
       "      <td>186</td>\n",
       "      <td>207</td>\n",
       "      <td>310</td>\n",
       "      <td>185</td>\n",
       "      <td>...</td>\n",
       "      <td>0.045517</td>\n",
       "      <td>6</td>\n",
       "      <td>1</td>\n",
       "      <td>13</td>\n",
       "      <td>13</td>\n",
       "      <td>7</td>\n",
       "      <td>1095</td>\n",
       "      <td>0.374743</td>\n",
       "      <td>Cartilage_3</td>\n",
       "      <td>Cartilage_3</td>\n",
       "    </tr>\n",
       "    <tr>\n",
       "      <th>AGAGAAGGATAAGGAG-1_E15_5-S1</th>\n",
       "      <td>AGAGAAGGATAAGGAG-1</td>\n",
       "      <td>AGAGAAGGATAAGGAG-1</td>\n",
       "      <td>0</td>\n",
       "      <td>0</td>\n",
       "      <td>816</td>\n",
       "      <td>755</td>\n",
       "      <td>126</td>\n",
       "      <td>255</td>\n",
       "      <td>286</td>\n",
       "      <td>228</td>\n",
       "      <td>...</td>\n",
       "      <td>0.053731</td>\n",
       "      <td>5</td>\n",
       "      <td>1</td>\n",
       "      <td>4</td>\n",
       "      <td>13</td>\n",
       "      <td>7</td>\n",
       "      <td>971</td>\n",
       "      <td>0.362313</td>\n",
       "      <td>Cartilage_3</td>\n",
       "      <td>Cartilage_3</td>\n",
       "    </tr>\n",
       "    <tr>\n",
       "      <th>ACTTAACCTCCGGCCT-1_E15_5-S1</th>\n",
       "      <td>ACTTAACCTCCGGCCT-1</td>\n",
       "      <td>ACTTAACCTCCGGCCT-1</td>\n",
       "      <td>0</td>\n",
       "      <td>0</td>\n",
       "      <td>3697</td>\n",
       "      <td>3442</td>\n",
       "      <td>397</td>\n",
       "      <td>1422</td>\n",
       "      <td>1402</td>\n",
       "      <td>1308</td>\n",
       "      <td>...</td>\n",
       "      <td>0.062086</td>\n",
       "      <td>44</td>\n",
       "      <td>45</td>\n",
       "      <td>11</td>\n",
       "      <td>3</td>\n",
       "      <td>14</td>\n",
       "      <td>927</td>\n",
       "      <td>0.383692</td>\n",
       "      <td>Midbrain</td>\n",
       "      <td>Midbrain</td>\n",
       "    </tr>\n",
       "  </tbody>\n",
       "</table>\n",
       "<p>1949 rows × 56 columns</p>\n",
       "</div>"
      ],
      "text/plain": [
       "                                    gex_barcode        atac_barcode  is_cell  \\\n",
       "GCCGCAACGCCGCAAC-1_E15_5-S1  GCCGCAACGCCGCAAC-1  GCCGCAACGCCGCAAC-1        1   \n",
       "GCCATTCTGCCATTCT-1_E15_5-S1  GCCATTCTGCCATTCT-1  GCCATTCTGCCATTCT-1        1   \n",
       "TGCGGACCTGCGGACC-1_E15_5-S1  TGCGGACCTGCGGACC-1  TGCGGACCTGCGGACC-1        1   \n",
       "ACTATGCAACTATGCA-1_E15_5-S1  ACTATGCAACTATGCA-1  ACTATGCAACTATGCA-1        0   \n",
       "TAGATCTATAGATCTA-1_E15_5-S1  TAGATCTATAGATCTA-1  TAGATCTATAGATCTA-1        1   \n",
       "...                                         ...                 ...      ...   \n",
       "TGAGTCTGTCCGGCCT-1_E15_5-S1  TGAGTCTGTCCGGCCT-1  TGAGTCTGTCCGGCCT-1        0   \n",
       "GATCTTACATAAGGAG-1_E15_5-S1  GATCTTACATAAGGAG-1  GATCTTACATAAGGAG-1        0   \n",
       "TCCGGCCTATAAGGAG-1_E15_5-S1  TCCGGCCTATAAGGAG-1  TCCGGCCTATAAGGAG-1        0   \n",
       "AGAGAAGGATAAGGAG-1_E15_5-S1  AGAGAAGGATAAGGAG-1  AGAGAAGGATAAGGAG-1        0   \n",
       "ACTTAACCTCCGGCCT-1_E15_5-S1  ACTTAACCTCCGGCCT-1  ACTTAACCTCCGGCCT-1        0   \n",
       "\n",
       "                             excluded_reason  gex_raw_reads  gex_mapped_reads  \\\n",
       "GCCGCAACGCCGCAAC-1_E15_5-S1                0         200903            184493   \n",
       "GCCATTCTGCCATTCT-1_E15_5-S1                0         332851            305088   \n",
       "TGCGGACCTGCGGACC-1_E15_5-S1                0         285439            264247   \n",
       "ACTATGCAACTATGCA-1_E15_5-S1                1         179671            164554   \n",
       "TAGATCTATAGATCTA-1_E15_5-S1                0         305439            280980   \n",
       "...                                      ...            ...               ...   \n",
       "TGAGTCTGTCCGGCCT-1_E15_5-S1                0           3103              2873   \n",
       "GATCTTACATAAGGAG-1_E15_5-S1                0            933               861   \n",
       "TCCGGCCTATAAGGAG-1_E15_5-S1                0            829               761   \n",
       "AGAGAAGGATAAGGAG-1_E15_5-S1                0            816               755   \n",
       "ACTTAACCTCCGGCCT-1_E15_5-S1                0           3697              3442   \n",
       "\n",
       "                             gex_conf_intergenic_reads  gex_conf_exonic_reads  \\\n",
       "GCCGCAACGCCGCAAC-1_E15_5-S1                      21684                  53624   \n",
       "GCCATTCTGCCATTCT-1_E15_5-S1                      44055                  92452   \n",
       "TGCGGACCTGCGGACC-1_E15_5-S1                      40488                  76256   \n",
       "ACTATGCAACTATGCA-1_E15_5-S1                      28576                  51311   \n",
       "TAGATCTATAGATCTA-1_E15_5-S1                      38357                  86695   \n",
       "...                                                ...                    ...   \n",
       "TGAGTCTGTCCGGCCT-1_E15_5-S1                        509                   1042   \n",
       "GATCTTACATAAGGAG-1_E15_5-S1                        167                    293   \n",
       "TCCGGCCTATAAGGAG-1_E15_5-S1                        186                    207   \n",
       "AGAGAAGGATAAGGAG-1_E15_5-S1                        126                    255   \n",
       "ACTTAACCTCCGGCCT-1_E15_5-S1                        397                   1422   \n",
       "\n",
       "                             gex_conf_intronic_reads  \\\n",
       "GCCGCAACGCCGCAAC-1_E15_5-S1                    99766   \n",
       "GCCATTCTGCCATTCT-1_E15_5-S1                   149887   \n",
       "TGCGGACCTGCGGACC-1_E15_5-S1                   129985   \n",
       "ACTATGCAACTATGCA-1_E15_5-S1                    71767   \n",
       "TAGATCTATAGATCTA-1_E15_5-S1                   138397   \n",
       "...                                              ...   \n",
       "TGAGTCTGTCCGGCCT-1_E15_5-S1                     1110   \n",
       "GATCTTACATAAGGAG-1_E15_5-S1                      311   \n",
       "TCCGGCCTATAAGGAG-1_E15_5-S1                      310   \n",
       "AGAGAAGGATAAGGAG-1_E15_5-S1                      286   \n",
       "ACTTAACCTCCGGCCT-1_E15_5-S1                     1402   \n",
       "\n",
       "                             gex_conf_exonic_unique_reads  ...  \\\n",
       "GCCGCAACGCCGCAAC-1_E15_5-S1                         47535  ...   \n",
       "GCCATTCTGCCATTCT-1_E15_5-S1                         82154  ...   \n",
       "TGCGGACCTGCGGACC-1_E15_5-S1                         67674  ...   \n",
       "ACTATGCAACTATGCA-1_E15_5-S1                         45917  ...   \n",
       "TAGATCTATAGATCTA-1_E15_5-S1                         77058  ...   \n",
       "...                                                   ...  ...   \n",
       "TGAGTCTGTCCGGCCT-1_E15_5-S1                           948  ...   \n",
       "GATCTTACATAAGGAG-1_E15_5-S1                           256  ...   \n",
       "TCCGGCCTATAAGGAG-1_E15_5-S1                           185  ...   \n",
       "AGAGAAGGATAAGGAG-1_E15_5-S1                           228  ...   \n",
       "ACTTAACCTCCGGCCT-1_E15_5-S1                          1308  ...   \n",
       "\n",
       "                             BlacklistRatio  array_col  array_row  \\\n",
       "GCCGCAACGCCGCAAC-1_E15_5-S1        0.055156         24         27   \n",
       "GCCATTCTGCCATTCT-1_E15_5-S1        0.048516         34         17   \n",
       "TGCGGACCTGCGGACC-1_E15_5-S1        0.051738         22         29   \n",
       "ACTATGCAACTATGCA-1_E15_5-S1        0.049135         13         38   \n",
       "TAGATCTATAGATCTA-1_E15_5-S1        0.054035         20         31   \n",
       "...                                     ...        ...        ...   \n",
       "TGAGTCTGTCCGGCCT-1_E15_5-S1        0.069375         23         45   \n",
       "GATCTTACATAAGGAG-1_E15_5-S1        0.042560         27          1   \n",
       "TCCGGCCTATAAGGAG-1_E15_5-S1        0.045517          6          1   \n",
       "AGAGAAGGATAAGGAG-1_E15_5-S1        0.053731          5          1   \n",
       "ACTTAACCTCCGGCCT-1_E15_5-S1        0.062086         44         45   \n",
       "\n",
       "                             Harmony_ATAC_0.35  Harmony_RNA_0.7  \\\n",
       "GCCGCAACGCCGCAAC-1_E15_5-S1                  1                3   \n",
       "GCCATTCTGCCATTCT-1_E15_5-S1                 10                3   \n",
       "TGCGGACCTGCGGACC-1_E15_5-S1                  1                3   \n",
       "ACTATGCAACTATGCA-1_E15_5-S1                  4               11   \n",
       "TAGATCTATAGATCTA-1_E15_5-S1                 10                3   \n",
       "...                                        ...              ...   \n",
       "TGAGTCTGTCCGGCCT-1_E15_5-S1                 10                3   \n",
       "GATCTTACATAAGGAG-1_E15_5-S1                  4               13   \n",
       "TCCGGCCTATAAGGAG-1_E15_5-S1                 13               13   \n",
       "AGAGAAGGATAAGGAG-1_E15_5-S1                  4               13   \n",
       "ACTTAACCTCCGGCCT-1_E15_5-S1                 11                3   \n",
       "\n",
       "                             Harmony_Combined_1.2_mergeCortex  ReadsInPeaks  \\\n",
       "GCCGCAACGCCGCAAC-1_E15_5-S1                                 6        251389   \n",
       "GCCATTCTGCCATTCT-1_E15_5-S1                                13        203006   \n",
       "TGCGGACCTGCGGACC-1_E15_5-S1                                10        232649   \n",
       "ACTATGCAACTATGCA-1_E15_5-S1                                 8        214881   \n",
       "TAGATCTATAGATCTA-1_E15_5-S1                                13        206150   \n",
       "...                                                       ...           ...   \n",
       "TGAGTCTGTCCGGCCT-1_E15_5-S1                                14          1190   \n",
       "GATCTTACATAAGGAG-1_E15_5-S1                                 7          1074   \n",
       "TCCGGCCTATAAGGAG-1_E15_5-S1                                 7          1095   \n",
       "AGAGAAGGATAAGGAG-1_E15_5-S1                                 7           971   \n",
       "ACTTAACCTCCGGCCT-1_E15_5-S1                                14           927   \n",
       "\n",
       "                                 FRIP     Annotation_for_Combined  \\\n",
       "GCCGCAACGCCGCAAC-1_E15_5-S1  0.411932                 Cartilage_2   \n",
       "GCCATTCTGCCATTCT-1_E15_5-S1  0.342920  Diencephalon_and_hindbrain   \n",
       "TGCGGACCTGCGGACC-1_E15_5-S1  0.405886                    Thalamus   \n",
       "ACTATGCAACTATGCA-1_E15_5-S1  0.396050                  Mesenchyme   \n",
       "TAGATCTATAGATCTA-1_E15_5-S1  0.382904  Diencephalon_and_hindbrain   \n",
       "...                               ...                         ...   \n",
       "TGAGTCTGTCCGGCCT-1_E15_5-S1  0.372108                    Midbrain   \n",
       "GATCTTACATAAGGAG-1_E15_5-S1  0.359920                 Cartilage_3   \n",
       "TCCGGCCTATAAGGAG-1_E15_5-S1  0.374743                 Cartilage_3   \n",
       "AGAGAAGGATAAGGAG-1_E15_5-S1  0.362313                 Cartilage_3   \n",
       "ACTTAACCTCCGGCCT-1_E15_5-S1  0.383692                    Midbrain   \n",
       "\n",
       "                                              cell_type  \n",
       "GCCGCAACGCCGCAAC-1_E15_5-S1                 Cartilage_2  \n",
       "GCCATTCTGCCATTCT-1_E15_5-S1  Diencephalon_and_hindbrain  \n",
       "TGCGGACCTGCGGACC-1_E15_5-S1                    Thalamus  \n",
       "ACTATGCAACTATGCA-1_E15_5-S1                  Mesenchyme  \n",
       "TAGATCTATAGATCTA-1_E15_5-S1  Diencephalon_and_hindbrain  \n",
       "...                                                 ...  \n",
       "TGAGTCTGTCCGGCCT-1_E15_5-S1                    Midbrain  \n",
       "GATCTTACATAAGGAG-1_E15_5-S1                 Cartilage_3  \n",
       "TCCGGCCTATAAGGAG-1_E15_5-S1                 Cartilage_3  \n",
       "AGAGAAGGATAAGGAG-1_E15_5-S1                 Cartilage_3  \n",
       "ACTTAACCTCCGGCCT-1_E15_5-S1                    Midbrain  \n",
       "\n",
       "[1949 rows x 56 columns]"
      ]
     },
     "execution_count": 13,
     "metadata": {},
     "output_type": "execute_result"
    }
   ],
   "source": [
    "S1_ATAC_data.obs"
   ]
  },
  {
   "cell_type": "code",
   "execution_count": 14,
   "id": "9d767255-64f1-45a5-a05d-752fe16e8758",
   "metadata": {},
   "outputs": [],
   "source": [
    "S2_RNA_data = sc.read_h5ad('After_train_E15_5-S2_expr.h5ad')"
   ]
  },
  {
   "cell_type": "code",
   "execution_count": 15,
   "id": "06ca38af-ef46-486e-8c5c-5e1d9bf19712",
   "metadata": {},
   "outputs": [],
   "source": [
    "S2_RNA_data.obs['cell_type'] = S2_RNA_data.obs['cell_type'].astype('category')"
   ]
  },
  {
   "cell_type": "code",
   "execution_count": 16,
   "id": "d82a705d-f1db-4161-bec5-083f4aa1d2f1",
   "metadata": {},
   "outputs": [
    {
     "data": {
      "text/plain": [
       "AnnData object with n_obs × n_vars = 1939 × 32285\n",
       "    obs: 'gex_barcode', 'atac_barcode', 'is_cell', 'excluded_reason', 'gex_raw_reads', 'gex_mapped_reads', 'gex_conf_intergenic_reads', 'gex_conf_exonic_reads', 'gex_conf_intronic_reads', 'gex_conf_exonic_unique_reads', 'gex_conf_exonic_antisense_reads', 'gex_conf_exonic_dup_reads', 'gex_exonic_umis', 'gex_conf_intronic_unique_reads', 'gex_conf_intronic_antisense_reads', 'gex_conf_intronic_dup_reads', 'gex_intronic_umis', 'gex_conf_txomic_unique_reads', 'gex_umis_count', 'gex_genes_count', 'atac_raw_reads', 'atac_unmapped_reads', 'atac_lowmapq', 'atac_dup_reads', 'atac_chimeric_reads', 'atac_mitochondrial_reads', 'atac_fragments', 'atac_TSS_fragments', 'atac_peak_region_fragments', 'atac_peak_region_cutsites', 'Sample', 'TSSEnrichment', 'ReadsInTSS', 'ReadsInPromoter', 'ReadsInBlacklist', 'PromoterRatio', 'PassQC', 'NucleosomeRatio', 'nMultiFrags', 'nMonoFrags', 'nFrags', 'nDiFrags', 'Gex_RiboRatio', 'Gex_nUMI', 'Gex_nGenes', 'Gex_MitoRatio', 'BlacklistRatio', 'array_col', 'array_row', 'Combined_Clusters', 'RNA_Clusters', 'ATAC_Clusters', 'Ground Truth', 'cell_type'\n",
       "    var: 'gene_ids', 'feature_types', 'genome'\n",
       "    obsm: 'AlignedEmbedding', 'spatial'"
      ]
     },
     "execution_count": 16,
     "metadata": {},
     "output_type": "execute_result"
    }
   ],
   "source": [
    "S2_RNA_data"
   ]
  },
  {
   "cell_type": "markdown",
   "id": "7b840ffc",
   "metadata": {},
   "source": [
    "## Preprocessing and Construct Neighbor Graph"
   ]
  },
  {
   "cell_type": "code",
   "execution_count": 17,
   "id": "98b40fc4",
   "metadata": {},
   "outputs": [
    {
     "name": "stdout",
     "output_type": "stream",
     "text": [
      "Constructing the spatial graph\n",
      "Generated graph with 11694 edges across 1949 cells.\n",
      "Average neighbors per cell: 6.0000\n",
      "Constructing the spatial graph\n",
      "Generated graph with 11694 edges across 1949 cells.\n",
      "Average neighbors per cell: 6.0000\n",
      "Constructing the spatial graph\n",
      "Generated graph with 11634 edges across 1939 cells.\n",
      "Average neighbors per cell: 6.0000\n",
      "Training set size: 1560\n",
      "Validation set size: 389\n"
     ]
    }
   ],
   "source": [
    "\n",
    "n_neighbors=6\n",
    "for adata in [S1_RNA_data, S1_ATAC_data, S2_RNA_data]:\n",
    "    spt.build_spatial_graph(adata,  knn_neighbors = n_neighbors, method ='KNN')\n",
    "\n",
    "train_id, validation_id = spt.split_dataset_by_slices(S1_RNA_data, S1_ATAC_data)\n",
    "\n"
   ]
  },
  {
   "cell_type": "markdown",
   "id": "91e679bd",
   "metadata": {},
   "source": [
    "## Data Spliting and Model Loading"
   ]
  },
  {
   "cell_type": "code",
   "execution_count": 18,
   "id": "041e95cf",
   "metadata": {
    "ExecuteTime": {
     "end_time": "2023-01-15T14:59:55.806140Z",
     "start_time": "2023-01-15T14:59:55.800573Z"
    }
   },
   "outputs": [
    {
     "name": "stdout",
     "output_type": "stream",
     "text": [
      "SpaTranslator model initialized.\n"
     ]
    }
   ],
   "source": [
    "model = spt.SpaTranslator()"
   ]
  },
  {
   "cell_type": "code",
   "execution_count": 19,
   "id": "b92256de",
   "metadata": {
    "ExecuteTime": {
     "end_time": "2023-01-15T14:59:56.209921Z",
     "start_time": "2023-01-15T14:59:56.143150Z"
    },
    "scrolled": true
   },
   "outputs": [
    {
     "name": "stdout",
     "output_type": "stream",
     "text": [
      "Data successfully loaded.\n"
     ]
    }
   ],
   "source": [
    "model.load_data(S1_RNA_data, S1_ATAC_data, S2_RNA_data, train_id, validation_id,mode=\"R2A\") "
   ]
  },
  {
   "cell_type": "code",
   "execution_count": 20,
   "id": "5dabe34b",
   "metadata": {
    "ExecuteTime": {
     "end_time": "2023-01-15T15:00:00.735200Z",
     "start_time": "2023-01-15T14:59:56.211938Z"
    }
   },
   "outputs": [
    {
     "name": "stdout",
     "output_type": "stream",
     "text": [
      "Applying total count normalization for RNA.\n",
      "Applying log1p transformation for RNA.\n",
      "Selecting top 3000 highly variable genes for RNA.\n",
      "Binarizing ATAC data.\n",
      "Filtering out peaks present in fewer than 0.50% of cells.\n",
      "Applying TF-IDF transformation.\n",
      "Normalizing data to range [0, 1] for ATAC.\n",
      "Data preprocessing completed.\n"
     ]
    }
   ],
   "source": [
    "model.preprocess_data() "
   ]
  },
  {
   "cell_type": "code",
   "execution_count": 21,
   "id": "921389a6",
   "metadata": {
    "ExecuteTime": {
     "end_time": "2023-01-15T15:00:00.744330Z",
     "start_time": "2023-01-15T15:00:00.737473Z"
    }
   },
   "outputs": [
    {
     "data": {
      "text/plain": [
       "Index(['chr1:3094792-3095311', 'chr1:3670633-3671325', 'chr1:3671531-3672049',\n",
       "       'chr1:4491884-4492396', 'chr1:4492853-4493362', 'chr1:4493405-4493920',\n",
       "       'chr1:4496366-4497015', 'chr1:4571647-4572150', 'chr1:4785487-4785998',\n",
       "       'chr1:4807537-4808043',\n",
       "       ...\n",
       "       'chrY:90740951-90741813', 'chrY:90742388-90742908',\n",
       "       'chrY:90743047-90743561', 'chrY:90743708-90744240',\n",
       "       'chrY:90799093-90799597', 'chrY:90800221-90800724',\n",
       "       'chrY:90803330-90803836', 'chrY:90807246-90807997',\n",
       "       'chrY:90810536-90812649', 'chrY:90812651-90813186'],\n",
       "      dtype='object', length=70249)"
      ]
     },
     "execution_count": 21,
     "metadata": {},
     "output_type": "execute_result"
    }
   ],
   "source": [
    "model.ATAC_data_p.var_names"
   ]
  },
  {
   "cell_type": "markdown",
   "id": "37ecd006",
   "metadata": {},
   "source": [
    "Similar to [scbutterfly](https://www.nature.com/articles/s41467-024-47418-x), we discover that it is a good idea to divide the ATAC dataset into several parts based on their location on the genome, which makes it easier for training. "
   ]
  },
  {
   "cell_type": "code",
   "execution_count": 22,
   "id": "f6ade79c",
   "metadata": {
    "ExecuteTime": {
     "end_time": "2023-01-15T15:00:02.115571Z",
     "start_time": "2023-01-15T15:00:00.746967Z"
    },
    "scrolled": true
   },
   "outputs": [
    {
     "name": "stdout",
     "output_type": "stream",
     "text": [
      "[4246, 3244, 5610, 3031, 2706, 2405, 3114, 2099, 3297, 2166, 1992, 5890, 3021, 5216, 4744, 3425, 4923, 4082, 3969, 1050, 19]\n"
     ]
    }
   ],
   "source": [
    "chrom_list = []\n",
    "current_chrom = None\n",
    "count = 0\n",
    "\n",
    "for peak in model.ATAC_data_p.var_names:\n",
    "    chrom = peak.split(':')[0]  # get the chromosome name\n",
    "    if chrom != current_chrom:\n",
    "        if current_chrom is not None:\n",
    "            chrom_list.append(count)\n",
    "        current_chrom = chrom\n",
    "        count = 1\n",
    "    else:\n",
    "        count += 1\n",
    "\n",
    "# add the last chromosome\n",
    "chrom_list.append(count)\n",
    "print(chrom_list)"
   ]
  },
  {
   "cell_type": "code",
   "execution_count": 23,
   "id": "459b9cc9",
   "metadata": {
    "ExecuteTime": {
     "end_time": "2023-01-15T15:00:02.122229Z",
     "start_time": "2023-01-15T15:00:02.117527Z"
    }
   },
   "outputs": [
    {
     "data": {
      "text/plain": [
       "70249"
      ]
     },
     "execution_count": 23,
     "metadata": {},
     "output_type": "execute_result"
    }
   ],
   "source": [
    "sum(chrom_list)"
   ]
  },
  {
   "cell_type": "markdown",
   "id": "15879be9",
   "metadata": {},
   "source": [
    "Because of the number of our cell is quite small (only 1000+), we need to do some augmentation."
   ]
  },
  {
   "cell_type": "code",
   "execution_count": 24,
   "id": "a5f094ea",
   "metadata": {
    "ExecuteTime": {
     "end_time": "2023-01-15T15:00:02.140845Z",
     "start_time": "2023-01-15T15:00:02.123769Z"
    }
   },
   "outputs": [
    {
     "name": "stdout",
     "output_type": "stream",
     "text": [
      "Performing cell type-based augmentation\n",
      "Data augmentation completed.\n"
     ]
    }
   ],
   "source": [
    "model.augment_data(aug_type=\"cell_type_augmentation\")"
   ]
  },
  {
   "cell_type": "code",
   "execution_count": 25,
   "id": "87de0c57",
   "metadata": {
    "ExecuteTime": {
     "end_time": "2023-01-15T15:00:03.849746Z",
     "start_time": "2023-01-15T15:00:02.142450Z"
    }
   },
   "outputs": [
    {
     "name": "stdout",
     "output_type": "stream",
     "text": [
      "\n",
      "------------------------------\n",
      "Model Parameters\n",
      "Mode: R2A\n",
      "R_encoder_nlayer: 2\n",
      "A_encoder_nlayer: 2\n",
      "R_decoder_nlayer: 2\n",
      "A_decoder_nlayer: 2\n",
      "R_encoder_dim_list: [3000, 256, 128]\n",
      "A_encoder_dim_list: [70249, 672, 128]\n",
      "R_decoder_dim_list: [128, 256, 3000]\n",
      "A_decoder_dim_list: [128, 672, 70249]\n",
      "R_encoder_act_list: [LeakyReLU(negative_slope=0.01), LeakyReLU(negative_slope=0.01)]\n",
      "A_encoder_act_list: [LeakyReLU(negative_slope=0.01), LeakyReLU(negative_slope=0.01)]\n",
      "R_decoder_act_list: [LeakyReLU(negative_slope=0.01), LeakyReLU(negative_slope=0.01)]\n",
      "A_decoder_act_list: [LeakyReLU(negative_slope=0.01), Sigmoid()]\n",
      "Translator embed dim: 128\n",
      "Translator input dim (RNA): 128\n",
      "Translator input dim (ATAC): 128\n",
      "Translator activation list: [LeakyReLU(negative_slope=0.01), LeakyReLU(negative_slope=0.01), LeakyReLU(negative_slope=0.01)]\n",
      "Discriminator layers: 1\n",
      "Discriminator dim list (RNA): [128]\n",
      "Discriminator dim list (ATAC): [128]\n",
      "Discriminator activation list: [Sigmoid()]\n",
      "Dropout rate: 0.1\n",
      "R_noise_rate: 0.5\n",
      "A_noise_rate: 0.3\n",
      "Chromosome list: [4246, 3244, 5610, 3031, 2706, 2405, 3114, 2099, 3297, 2166, 1992, 5890, 3021, 5216, 4744, 3425, 4923, 4082, 3969, 1050, 19]\n",
      "------------------------------\n",
      "\n",
      "Model successfully constructed.\n"
     ]
    }
   ],
   "source": [
    "model.construct_model(chrom_list=chrom_list)"
   ]
  },
  {
   "cell_type": "code",
   "execution_count": 26,
   "id": "bc4c6cb7",
   "metadata": {
    "ExecuteTime": {
     "end_time": "2023-01-15T15:11:40.760822Z",
     "start_time": "2023-01-15T15:00:03.851347Z"
    }
   },
   "outputs": [
    {
     "name": "stderr",
     "output_type": "stream",
     "text": [
      "RNA pretraining with VAE: 100%|█████████| 100/100 [03:33<00:00,  2.14s/it, train=0.0652, val=0.0712]\n",
      "ATAC pretraining with VAE: 100%|████████| 100/100 [08:52<00:00,  5.33s/it, train=0.2114, val=0.2074]\n",
      "Integrative training:  62%|████████     | 186/300 [33:57<20:48, 10.95s/it, train=0.9907, val=0.9829]"
     ]
    },
    {
     "name": "stdout",
     "output_type": "stream",
     "text": [
      "Integrative training early stop, validation loss does not improve in 50 epoches!\n",
      "Model training completed.\n"
     ]
    },
    {
     "name": "stderr",
     "output_type": "stream",
     "text": [
      "\n"
     ]
    }
   ],
   "source": [
    "model.train_model(translator_epoch = 300)"
   ]
  },
  {
   "cell_type": "markdown",
   "id": "8e670918",
   "metadata": {},
   "source": [
    "## Get prediction "
   ]
  },
  {
   "cell_type": "code",
   "execution_count": 27,
   "id": "e2870879",
   "metadata": {
    "ExecuteTime": {
     "end_time": "2023-01-15T15:11:57.445695Z",
     "start_time": "2023-01-15T15:11:40.763526Z"
    }
   },
   "outputs": [
    {
     "name": "stderr",
     "output_type": "stream",
     "text": [
      "RNA to ATAC predicting...: 100%|████████████████████████████████████| 31/31 [00:00<00:00, 32.90it/s]\n"
     ]
    }
   ],
   "source": [
    "R2A_predict = model.test_model()"
   ]
  },
  {
   "cell_type": "code",
   "execution_count": 28,
   "id": "4e331a1f-cf39-4636-a1c9-c2d00901066c",
   "metadata": {},
   "outputs": [],
   "source": [
    "combined_tensor = torch.cat(R2A_predict.uns['R2A_embedding'], dim=0)"
   ]
  },
  {
   "cell_type": "code",
   "execution_count": 29,
   "id": "21325672-3d04-4a1c-a376-2885763800e2",
   "metadata": {},
   "outputs": [],
   "source": [
    "R2A_predict.uns['R2A_embedding'] = combined_tensor"
   ]
  },
  {
   "cell_type": "code",
   "execution_count": 30,
   "id": "c2b6e47f-d2f9-4780-8710-8e591ee7df43",
   "metadata": {},
   "outputs": [],
   "source": [
    "R2A_predict.obsm['R2A_embedding'] = R2A_predict.uns['R2A_embedding'].numpy()"
   ]
  },
  {
   "cell_type": "code",
   "execution_count": 31,
   "id": "569a9945-e36b-4986-a512-4ad76f3cf908",
   "metadata": {},
   "outputs": [
    {
     "data": {
      "text/plain": [
       "AnnData object with n_obs × n_vars = 1939 × 70249\n",
       "    obs: 'gex_barcode', 'atac_barcode', 'is_cell', 'excluded_reason', 'gex_raw_reads', 'gex_mapped_reads', 'gex_conf_intergenic_reads', 'gex_conf_exonic_reads', 'gex_conf_intronic_reads', 'gex_conf_exonic_unique_reads', 'gex_conf_exonic_antisense_reads', 'gex_conf_exonic_dup_reads', 'gex_exonic_umis', 'gex_conf_intronic_unique_reads', 'gex_conf_intronic_antisense_reads', 'gex_conf_intronic_dup_reads', 'gex_intronic_umis', 'gex_conf_txomic_unique_reads', 'gex_umis_count', 'gex_genes_count', 'atac_raw_reads', 'atac_unmapped_reads', 'atac_lowmapq', 'atac_dup_reads', 'atac_chimeric_reads', 'atac_mitochondrial_reads', 'atac_fragments', 'atac_TSS_fragments', 'atac_peak_region_fragments', 'atac_peak_region_cutsites', 'Sample', 'TSSEnrichment', 'ReadsInTSS', 'ReadsInPromoter', 'ReadsInBlacklist', 'PromoterRatio', 'PassQC', 'NucleosomeRatio', 'nMultiFrags', 'nMonoFrags', 'nFrags', 'nDiFrags', 'Gex_RiboRatio', 'Gex_nUMI', 'Gex_nGenes', 'Gex_MitoRatio', 'BlacklistRatio', 'array_col', 'array_row', 'Combined_Clusters', 'RNA_Clusters', 'ATAC_Clusters', 'Ground Truth', 'cell_type'\n",
       "    var: 'n_cells'\n",
       "    uns: 'R2A_embedding'\n",
       "    obsm: 'R2A_embedding'"
      ]
     },
     "execution_count": 31,
     "metadata": {},
     "output_type": "execute_result"
    }
   ],
   "source": [
    "R2A_predict"
   ]
  },
  {
   "cell_type": "code",
   "execution_count": 32,
   "id": "e5d9f0ee",
   "metadata": {},
   "outputs": [],
   "source": [
    "R2A_predict.obsm['spatial'] = S2_RNA_data.obsm['spatial']"
   ]
  },
  {
   "cell_type": "code",
   "execution_count": 33,
   "id": "93ca440d-e043-4d99-9803-10b1c8e6f71d",
   "metadata": {},
   "outputs": [
    {
     "name": "stdout",
     "output_type": "stream",
     "text": [
      "odict_keys(['R2A_embedding'])\n",
      "odict_keys(['R2A_embedding'])\n"
     ]
    }
   ],
   "source": [
    "# check uns dictionary\n",
    "print(R2A_predict.uns.keys())\n",
    "\n",
    "if 'R2A_embedding' in R2A_predict.uns:\n",
    "    # convert tensor to numpy array\n",
    "    if isinstance(R2A_predict.uns['R2A_embedding'], torch.Tensor):\n",
    "        R2A_predict.uns['R2A_embedding'] = R2A_predict.uns['R2A_embedding'].numpy()\n",
    "\n",
    "# check uns dictionary again\n",
    "print(R2A_predict.uns.keys())\n",
    "\n",
    "R2A_predict.write_h5ad(\"./result/R2A_predict_E15_S1_pair_E15_S2_R2A.h5ad\")"
   ]
  }
 ],
 "metadata": {
  "celltoolbar": "无",
  "kernelspec": {
   "display_name": "Python (SpaTranslator)",
   "language": "python",
   "name": "spatranslator"
  },
  "toc": {
   "base_numbering": 1,
   "nav_menu": {},
   "number_sections": true,
   "sideBar": true,
   "skip_h1_title": false,
   "title_cell": "Table of Contents",
   "title_sidebar": "Contents",
   "toc_cell": false,
   "toc_position": {},
   "toc_section_display": true,
   "toc_window_display": false
  },
  "vscode": {
   "interpreter": {
    "hash": "be831f8fd4af9710c2084c85ebfbc599b5df1562b13e9c650b8f8438275fb97d"
   }
  }
 },
 "nbformat": 4,
 "nbformat_minor": 5
}
